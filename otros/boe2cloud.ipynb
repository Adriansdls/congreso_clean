{
 "cells": [
  {
   "cell_type": "code",
   "execution_count": 1,
   "metadata": {},
   "outputs": [],
   "source": [
    "from urllib.request import urlopen\n",
    "from xml.etree.ElementTree import parse\n",
    "import pandas as pd\n",
    "from lxml import etree\n",
    "import seaborn as sns\n",
    "from datetime import timedelta\n",
    "import datetime\n",
    "from tqdm import tqdm"
   ]
  },
  {
   "cell_type": "code",
   "execution_count": 5,
   "metadata": {},
   "outputs": [
    {
     "data": {
      "text/plain": [
       "22864"
      ]
     },
     "execution_count": 5,
     "metadata": {},
     "output_type": "execute_result"
    }
   ],
   "source": [
    "today = datetime.datetime.today().date()\n",
    "inicio = datetime.datetime(1959,12,31).date()\n",
    "\n",
    "rango = today - inicio\n",
    "rango = rango.days\n",
    "rango"
   ]
  },
  {
   "cell_type": "code",
   "execution_count": 6,
   "metadata": {},
   "outputs": [
    {
     "data": {
      "text/plain": [
       "14492"
      ]
     },
     "execution_count": 6,
     "metadata": {},
     "output_type": "execute_result"
    }
   ],
   "source": [
    "today = datetime.datetime.today().date()\n",
    "felipe = datetime.datetime(1982,12,2).date()\n",
    "\n",
    "rango = today - felipe\n",
    "rango = rango.days\n",
    "rango\n"
   ]
  },
  {
   "cell_type": "code",
   "execution_count": 86,
   "metadata": {},
   "outputs": [],
   "source": [
    "# BUENA LISTA DE URLS\n",
    "primera_fecha = datetime(1959,12,31)\n",
    "fecha = primera_fecha\n",
    "full_url = []\n",
    "\n",
    "for i in range(rango):\n",
    "    fecha += timedelta(days=1)\n",
    "    fecha_str = str(fecha.date()).replace(\"-\",\"\")\n",
    "    u = \"https://boe.es/diario_boe/xml.php?id=BOE-S-{0}\".format(fecha_str)\n",
    "    full_url.append(u)\n"
   ]
  },
  {
   "cell_type": "code",
   "execution_count": 87,
   "metadata": {},
   "outputs": [
    {
     "data": {
      "text/plain": [
       "['https://boe.es/diario_boe/xml.php?id=BOE-S-19600101',\n",
       " 'https://boe.es/diario_boe/xml.php?id=BOE-S-19600102']"
      ]
     },
     "execution_count": 87,
     "metadata": {},
     "output_type": "execute_result"
    }
   ],
   "source": [
    "lista_desde_felipe =  full_url[-14491:]\n",
    "lista_desde_felipe"
   ]
  },
  {
   "cell_type": "code",
   "execution_count": 331,
   "metadata": {},
   "outputs": [],
   "source": [
    "var_url = urlopen(\"https://boe.es/diario_boe/xml.php?id=BOE-S-20141007\")\n",
    "doc = etree.parse(var_url)\n",
    "\n",
    "raiz = doc.getroot()\n",
    "meta = raiz[0]\n",
    "diario = raiz[1]\n",
    "\n",
    "boe = diario.getchildren()[0].attrib.values()[0]\n",
    "url_pdf = diario.getchildren()[0].find(\"urlPdf\").text\n",
    "fecha = meta[2].text"
   ]
  },
  {
   "cell_type": "code",
   "execution_count": null,
   "metadata": {},
   "outputs": [],
   "source": [
    "# TREE\n",
    "for i in diario.getchildren():\n",
    "    print(i.values())\n"
   ]
  },
  {
   "cell_type": "code",
   "execution_count": 332,
   "metadata": {},
   "outputs": [],
   "source": [
    "full = []\n",
    "\n",
    "for i in diario.getchildren():\n",
    "    for j in i:\n",
    "        for z in j:\n",
    "            for a in z:\n",
    "                for b in a:\n",
    "                    if not b.text.startswith(\"/\"):\n",
    "                        full.append([i.attrib.values()[1], j.attrib.values()[0], j.attrib.values()[1], z.attrib.values()[0], b.text, fecha, boe, url_pdf])"
   ]
  },
  {
   "cell_type": "code",
   "execution_count": 56,
   "metadata": {},
   "outputs": [],
   "source": [
    "from datetime import datetime\n"
   ]
  },
  {
   "cell_type": "code",
   "execution_count": 78,
   "metadata": {},
   "outputs": [
    {
     "data": {
      "text/html": [
       "<div>\n",
       "<style scoped>\n",
       "    .dataframe tbody tr th:only-of-type {\n",
       "        vertical-align: middle;\n",
       "    }\n",
       "\n",
       "    .dataframe tbody tr th {\n",
       "        vertical-align: top;\n",
       "    }\n",
       "\n",
       "    .dataframe thead th {\n",
       "        text-align: right;\n",
       "    }\n",
       "</style>\n",
       "<table border=\"1\" class=\"dataframe\">\n",
       "  <thead>\n",
       "    <tr style=\"text-align: right;\">\n",
       "      <th></th>\n",
       "      <th>Unnamed: 0</th>\n",
       "      <th>departamento</th>\n",
       "      <th>ministerio</th>\n",
       "      <th>etiqueta</th>\n",
       "      <th>Epigrafe</th>\n",
       "      <th>text</th>\n",
       "      <th>fecha</th>\n",
       "      <th>boe</th>\n",
       "      <th>pdf</th>\n",
       "      <th>epigrafe</th>\n",
       "      <th>url</th>\n",
       "    </tr>\n",
       "  </thead>\n",
       "  <tbody>\n",
       "    <tr>\n",
       "      <th>0</th>\n",
       "      <td>0</td>\n",
       "      <td>II. Autoridades y personal. - Nombramientos, s...</td>\n",
       "      <td>JEFATURA DEL ESTADO</td>\n",
       "      <td>7723</td>\n",
       "      <td>NaN</td>\n",
       "      <td>Real Decreto 3285/1982, de 1 de diciembre, por...</td>\n",
       "      <td>1982-12-02</td>\n",
       "      <td>BOE-S-1982-289</td>\n",
       "      <td>/boe/dias/1982/12/02/pdfs/BOE-S-1982-289.pdf</td>\n",
       "      <td>Nombramientos</td>\n",
       "      <td>https://boe.es/diario_boe/xml.php?id=BOE-S-198...</td>\n",
       "    </tr>\n",
       "    <tr>\n",
       "      <th>1</th>\n",
       "      <td>1</td>\n",
       "      <td>II. Autoridades y personal. - Nombramientos, s...</td>\n",
       "      <td>JEFATURA DEL ESTADO</td>\n",
       "      <td>7723</td>\n",
       "      <td>NaN</td>\n",
       "      <td>Real Decreto 3286/1982, de 1 de diciembre, por...</td>\n",
       "      <td>1982-12-02</td>\n",
       "      <td>BOE-S-1982-289</td>\n",
       "      <td>/boe/dias/1982/12/02/pdfs/BOE-S-1982-289.pdf</td>\n",
       "      <td>Ceses</td>\n",
       "      <td>https://boe.es/diario_boe/xml.php?id=BOE-S-198...</td>\n",
       "    </tr>\n",
       "    <tr>\n",
       "      <th>2</th>\n",
       "      <td>2</td>\n",
       "      <td>II. Autoridades y personal. - Nombramientos, s...</td>\n",
       "      <td>PRESIDENCIA DEL GOBIERNO</td>\n",
       "      <td>7786</td>\n",
       "      <td>NaN</td>\n",
       "      <td>Orden de 29 de octubre de 1982 por la que se r...</td>\n",
       "      <td>1982-12-02</td>\n",
       "      <td>BOE-S-1982-289</td>\n",
       "      <td>/boe/dias/1982/12/02/pdfs/BOE-S-1982-289.pdf</td>\n",
       "      <td>Destinos</td>\n",
       "      <td>https://boe.es/diario_boe/xml.php?id=BOE-S-198...</td>\n",
       "    </tr>\n",
       "    <tr>\n",
       "      <th>3</th>\n",
       "      <td>3</td>\n",
       "      <td>II. Autoridades y personal. - Nombramientos, s...</td>\n",
       "      <td>PRESIDENCIA DEL GOBIERNO</td>\n",
       "      <td>7786</td>\n",
       "      <td>NaN</td>\n",
       "      <td>Orden de 29 de noviembre de 1982 por la que se...</td>\n",
       "      <td>1982-12-02</td>\n",
       "      <td>BOE-S-1982-289</td>\n",
       "      <td>/boe/dias/1982/12/02/pdfs/BOE-S-1982-289.pdf</td>\n",
       "      <td>Destinos</td>\n",
       "      <td>https://boe.es/diario_boe/xml.php?id=BOE-S-198...</td>\n",
       "    </tr>\n",
       "    <tr>\n",
       "      <th>4</th>\n",
       "      <td>4</td>\n",
       "      <td>II. Autoridades y personal. - Nombramientos, s...</td>\n",
       "      <td>MINISTERIO DE ASUNTOS EXTERIORES</td>\n",
       "      <td>7110</td>\n",
       "      <td>NaN</td>\n",
       "      <td>Orden de 20 de noviembre de 1982 por la que se...</td>\n",
       "      <td>1982-12-02</td>\n",
       "      <td>BOE-S-1982-289</td>\n",
       "      <td>/boe/dias/1982/12/02/pdfs/BOE-S-1982-289.pdf</td>\n",
       "      <td>Ascensos</td>\n",
       "      <td>https://boe.es/diario_boe/xml.php?id=BOE-S-198...</td>\n",
       "    </tr>\n",
       "    <tr>\n",
       "      <th>...</th>\n",
       "      <td>...</td>\n",
       "      <td>...</td>\n",
       "      <td>...</td>\n",
       "      <td>...</td>\n",
       "      <td>...</td>\n",
       "      <td>...</td>\n",
       "      <td>...</td>\n",
       "      <td>...</td>\n",
       "      <td>...</td>\n",
       "      <td>...</td>\n",
       "      <td>...</td>\n",
       "    </tr>\n",
       "    <tr>\n",
       "      <th>794773</th>\n",
       "      <td>58</td>\n",
       "      <td>III. Otras disposiciones</td>\n",
       "      <td>BANCO DE ESPAÑA</td>\n",
       "      <td>1020</td>\n",
       "      <td>NaN</td>\n",
       "      <td>Resolución de 3 de agosto de 2022, del Banco d...</td>\n",
       "      <td>2022-08-04</td>\n",
       "      <td>BOE-S-2022-186</td>\n",
       "      <td>/boe/dias/2022/08/04/pdfs/BOE-S-2022-186.pdf</td>\n",
       "      <td>Mercado de divisas</td>\n",
       "      <td>https://boe.es/diario_boe/xml.php?id=BOE-S-202...</td>\n",
       "    </tr>\n",
       "    <tr>\n",
       "      <th>794774</th>\n",
       "      <td>59</td>\n",
       "      <td>III. Otras disposiciones</td>\n",
       "      <td>COMUNIDAD AUTÓNOMA DE CATALUÑA</td>\n",
       "      <td>8070</td>\n",
       "      <td>NaN</td>\n",
       "      <td>Resolución de 28 de junio de 2022, de la Direc...</td>\n",
       "      <td>2022-08-04</td>\n",
       "      <td>BOE-S-2022-186</td>\n",
       "      <td>/boe/dias/2022/08/04/pdfs/BOE-S-2022-186.pdf</td>\n",
       "      <td>Entidades de inspección y control</td>\n",
       "      <td>https://boe.es/diario_boe/xml.php?id=BOE-S-202...</td>\n",
       "    </tr>\n",
       "    <tr>\n",
       "      <th>794775</th>\n",
       "      <td>60</td>\n",
       "      <td>III. Otras disposiciones</td>\n",
       "      <td>COMUNIDAD AUTÓNOMA DE CATALUÑA</td>\n",
       "      <td>8070</td>\n",
       "      <td>NaN</td>\n",
       "      <td>Resolución de 11 de julio de 2022, de la Direc...</td>\n",
       "      <td>2022-08-04</td>\n",
       "      <td>BOE-S-2022-186</td>\n",
       "      <td>/boe/dias/2022/08/04/pdfs/BOE-S-2022-186.pdf</td>\n",
       "      <td>Homologaciones</td>\n",
       "      <td>https://boe.es/diario_boe/xml.php?id=BOE-S-202...</td>\n",
       "    </tr>\n",
       "    <tr>\n",
       "      <th>794776</th>\n",
       "      <td>61</td>\n",
       "      <td>III. Otras disposiciones</td>\n",
       "      <td>COMUNIDAD DE CASTILLA Y LEÓN</td>\n",
       "      <td>9531</td>\n",
       "      <td>NaN</td>\n",
       "      <td>Acuerdo 155/2022, de 21 de julio, de la Junta ...</td>\n",
       "      <td>2022-08-04</td>\n",
       "      <td>BOE-S-2022-186</td>\n",
       "      <td>/boe/dias/2022/08/04/pdfs/BOE-S-2022-186.pdf</td>\n",
       "      <td>Bienes de interés cultural</td>\n",
       "      <td>https://boe.es/diario_boe/xml.php?id=BOE-S-202...</td>\n",
       "    </tr>\n",
       "    <tr>\n",
       "      <th>794777</th>\n",
       "      <td>62</td>\n",
       "      <td>III. Otras disposiciones</td>\n",
       "      <td>COMUNIDAD DE CASTILLA Y LEÓN</td>\n",
       "      <td>9531</td>\n",
       "      <td>NaN</td>\n",
       "      <td>Acuerdo 156/2022, de 21 de julio, de la Junta ...</td>\n",
       "      <td>2022-08-04</td>\n",
       "      <td>BOE-S-2022-186</td>\n",
       "      <td>/boe/dias/2022/08/04/pdfs/BOE-S-2022-186.pdf</td>\n",
       "      <td>Bienes de interés cultural</td>\n",
       "      <td>https://boe.es/diario_boe/xml.php?id=BOE-S-202...</td>\n",
       "    </tr>\n",
       "  </tbody>\n",
       "</table>\n",
       "<p>794778 rows × 11 columns</p>\n",
       "</div>"
      ],
      "text/plain": [
       "        Unnamed: 0                                       departamento  \\\n",
       "0                0  II. Autoridades y personal. - Nombramientos, s...   \n",
       "1                1  II. Autoridades y personal. - Nombramientos, s...   \n",
       "2                2  II. Autoridades y personal. - Nombramientos, s...   \n",
       "3                3  II. Autoridades y personal. - Nombramientos, s...   \n",
       "4                4  II. Autoridades y personal. - Nombramientos, s...   \n",
       "...            ...                                                ...   \n",
       "794773          58                           III. Otras disposiciones   \n",
       "794774          59                           III. Otras disposiciones   \n",
       "794775          60                           III. Otras disposiciones   \n",
       "794776          61                           III. Otras disposiciones   \n",
       "794777          62                           III. Otras disposiciones   \n",
       "\n",
       "                              ministerio etiqueta  Epigrafe  \\\n",
       "0                    JEFATURA DEL ESTADO     7723       NaN   \n",
       "1                    JEFATURA DEL ESTADO     7723       NaN   \n",
       "2               PRESIDENCIA DEL GOBIERNO     7786       NaN   \n",
       "3               PRESIDENCIA DEL GOBIERNO     7786       NaN   \n",
       "4       MINISTERIO DE ASUNTOS EXTERIORES     7110       NaN   \n",
       "...                                  ...      ...       ...   \n",
       "794773                   BANCO DE ESPAÑA     1020       NaN   \n",
       "794774    COMUNIDAD AUTÓNOMA DE CATALUÑA     8070       NaN   \n",
       "794775    COMUNIDAD AUTÓNOMA DE CATALUÑA     8070       NaN   \n",
       "794776      COMUNIDAD DE CASTILLA Y LEÓN     9531       NaN   \n",
       "794777      COMUNIDAD DE CASTILLA Y LEÓN     9531       NaN   \n",
       "\n",
       "                                                     text      fecha  \\\n",
       "0       Real Decreto 3285/1982, de 1 de diciembre, por... 1982-12-02   \n",
       "1       Real Decreto 3286/1982, de 1 de diciembre, por... 1982-12-02   \n",
       "2       Orden de 29 de octubre de 1982 por la que se r... 1982-12-02   \n",
       "3       Orden de 29 de noviembre de 1982 por la que se... 1982-12-02   \n",
       "4       Orden de 20 de noviembre de 1982 por la que se... 1982-12-02   \n",
       "...                                                   ...        ...   \n",
       "794773  Resolución de 3 de agosto de 2022, del Banco d... 2022-08-04   \n",
       "794774  Resolución de 28 de junio de 2022, de la Direc... 2022-08-04   \n",
       "794775  Resolución de 11 de julio de 2022, de la Direc... 2022-08-04   \n",
       "794776  Acuerdo 155/2022, de 21 de julio, de la Junta ... 2022-08-04   \n",
       "794777  Acuerdo 156/2022, de 21 de julio, de la Junta ... 2022-08-04   \n",
       "\n",
       "                   boe                                           pdf  \\\n",
       "0       BOE-S-1982-289  /boe/dias/1982/12/02/pdfs/BOE-S-1982-289.pdf   \n",
       "1       BOE-S-1982-289  /boe/dias/1982/12/02/pdfs/BOE-S-1982-289.pdf   \n",
       "2       BOE-S-1982-289  /boe/dias/1982/12/02/pdfs/BOE-S-1982-289.pdf   \n",
       "3       BOE-S-1982-289  /boe/dias/1982/12/02/pdfs/BOE-S-1982-289.pdf   \n",
       "4       BOE-S-1982-289  /boe/dias/1982/12/02/pdfs/BOE-S-1982-289.pdf   \n",
       "...                ...                                           ...   \n",
       "794773  BOE-S-2022-186  /boe/dias/2022/08/04/pdfs/BOE-S-2022-186.pdf   \n",
       "794774  BOE-S-2022-186  /boe/dias/2022/08/04/pdfs/BOE-S-2022-186.pdf   \n",
       "794775  BOE-S-2022-186  /boe/dias/2022/08/04/pdfs/BOE-S-2022-186.pdf   \n",
       "794776  BOE-S-2022-186  /boe/dias/2022/08/04/pdfs/BOE-S-2022-186.pdf   \n",
       "794777  BOE-S-2022-186  /boe/dias/2022/08/04/pdfs/BOE-S-2022-186.pdf   \n",
       "\n",
       "                                 epigrafe  \\\n",
       "0                           Nombramientos   \n",
       "1                                   Ceses   \n",
       "2                                Destinos   \n",
       "3                                Destinos   \n",
       "4                                Ascensos   \n",
       "...                                   ...   \n",
       "794773                 Mercado de divisas   \n",
       "794774  Entidades de inspección y control   \n",
       "794775                     Homologaciones   \n",
       "794776         Bienes de interés cultural   \n",
       "794777         Bienes de interés cultural   \n",
       "\n",
       "                                                      url  \n",
       "0       https://boe.es/diario_boe/xml.php?id=BOE-S-198...  \n",
       "1       https://boe.es/diario_boe/xml.php?id=BOE-S-198...  \n",
       "2       https://boe.es/diario_boe/xml.php?id=BOE-S-198...  \n",
       "3       https://boe.es/diario_boe/xml.php?id=BOE-S-198...  \n",
       "4       https://boe.es/diario_boe/xml.php?id=BOE-S-198...  \n",
       "...                                                   ...  \n",
       "794773  https://boe.es/diario_boe/xml.php?id=BOE-S-202...  \n",
       "794774  https://boe.es/diario_boe/xml.php?id=BOE-S-202...  \n",
       "794775  https://boe.es/diario_boe/xml.php?id=BOE-S-202...  \n",
       "794776  https://boe.es/diario_boe/xml.php?id=BOE-S-202...  \n",
       "794777  https://boe.es/diario_boe/xml.php?id=BOE-S-202...  \n",
       "\n",
       "[794778 rows x 11 columns]"
      ]
     },
     "execution_count": 78,
     "metadata": {},
     "output_type": "execute_result"
    }
   ],
   "source": [
    "df = pd.read_csv(\"boe_felipe.csv\", parse_dates=[\"fecha\"], dayfirst=True)\n",
    "df"
   ]
  },
  {
   "cell_type": "code",
   "execution_count": 80,
   "metadata": {},
   "outputs": [
    {
     "name": "stdout",
     "output_type": "stream",
     "text": [
      "<class 'pandas.core.frame.DataFrame'>\n",
      "RangeIndex: 794778 entries, 0 to 794777\n",
      "Data columns (total 11 columns):\n",
      " #   Column        Non-Null Count   Dtype         \n",
      "---  ------        --------------   -----         \n",
      " 0   Unnamed: 0    794778 non-null  int64         \n",
      " 1   departamento  794778 non-null  object        \n",
      " 2   ministerio    794778 non-null  object        \n",
      " 3   etiqueta      794778 non-null  object        \n",
      " 4   Epigrafe      0 non-null       float64       \n",
      " 5   text          794778 non-null  object        \n",
      " 6   fecha         794778 non-null  datetime64[ns]\n",
      " 7   boe           794778 non-null  object        \n",
      " 8   pdf           794778 non-null  object        \n",
      " 9   epigrafe      794778 non-null  object        \n",
      " 10  url           794778 non-null  object        \n",
      "dtypes: datetime64[ns](1), float64(1), int64(1), object(8)\n",
      "memory usage: 66.7+ MB\n"
     ]
    }
   ],
   "source": [
    "df.info()"
   ]
  },
  {
   "cell_type": "code",
   "execution_count": 81,
   "metadata": {},
   "outputs": [
    {
     "data": {
      "text/plain": [
       "2"
      ]
     },
     "execution_count": 81,
     "metadata": {},
     "output_type": "execute_result"
    }
   ],
   "source": [
    "rango"
   ]
  },
  {
   "cell_type": "code",
   "execution_count": 82,
   "metadata": {},
   "outputs": [
    {
     "data": {
      "text/plain": [
       "datetime.date(2022, 8, 4)"
      ]
     },
     "execution_count": 82,
     "metadata": {},
     "output_type": "execute_result"
    }
   ],
   "source": [
    "df.fecha.iloc[-1].date()"
   ]
  },
  {
   "cell_type": "code",
   "execution_count": 83,
   "metadata": {},
   "outputs": [
    {
     "ename": "AttributeError",
     "evalue": "'datetime.date' object has no attribute 'date'",
     "output_type": "error",
     "traceback": [
      "\u001b[0;31m---------------------------------------------------------------------------\u001b[0m",
      "\u001b[0;31mAttributeError\u001b[0m                            Traceback (most recent call last)",
      "\u001b[1;32m/Users/adriansanchezdelasierra/projects/gA repos/trans_courses/boe2cloud.ipynb Cell 14\u001b[0m in \u001b[0;36m<cell line: 13>\u001b[0;34m()\u001b[0m\n\u001b[1;32m     <a href='vscode-notebook-cell:/Users/adriansanchezdelasierra/projects/gA%20repos/trans_courses/boe2cloud.ipynb#ch0000060?line=12'>13</a>\u001b[0m \u001b[39mfor\u001b[39;00m i \u001b[39min\u001b[39;00m \u001b[39mrange\u001b[39m(rango):\n\u001b[1;32m     <a href='vscode-notebook-cell:/Users/adriansanchezdelasierra/projects/gA%20repos/trans_courses/boe2cloud.ipynb#ch0000060?line=13'>14</a>\u001b[0m     fecha \u001b[39m+\u001b[39m\u001b[39m=\u001b[39m timedelta(days\u001b[39m=\u001b[39m\u001b[39m1\u001b[39m)\n\u001b[0;32m---> <a href='vscode-notebook-cell:/Users/adriansanchezdelasierra/projects/gA%20repos/trans_courses/boe2cloud.ipynb#ch0000060?line=14'>15</a>\u001b[0m     fecha_str \u001b[39m=\u001b[39m \u001b[39mstr\u001b[39m(fecha\u001b[39m.\u001b[39;49mdate())\u001b[39m.\u001b[39mreplace(\u001b[39m\"\u001b[39m\u001b[39m-\u001b[39m\u001b[39m\"\u001b[39m,\u001b[39m\"\u001b[39m\u001b[39m\"\u001b[39m)\n\u001b[1;32m     <a href='vscode-notebook-cell:/Users/adriansanchezdelasierra/projects/gA%20repos/trans_courses/boe2cloud.ipynb#ch0000060?line=15'>16</a>\u001b[0m     u \u001b[39m=\u001b[39m \u001b[39m\"\u001b[39m\u001b[39mhttps://boe.es/diario_boe/xml.php?id=BOE-S-\u001b[39m\u001b[39m{0}\u001b[39;00m\u001b[39m\"\u001b[39m\u001b[39m.\u001b[39mformat(fecha_str)\n\u001b[1;32m     <a href='vscode-notebook-cell:/Users/adriansanchezdelasierra/projects/gA%20repos/trans_courses/boe2cloud.ipynb#ch0000060?line=16'>17</a>\u001b[0m     nuevos_boes\u001b[39m.\u001b[39mappend(u)\n",
      "\u001b[0;31mAttributeError\u001b[0m: 'datetime.date' object has no attribute 'date'"
     ]
    }
   ],
   "source": [
    "\n",
    "\n",
    "# DESDE ULTIMO BOE\n",
    "ultima_fecha = df.fecha.iloc[-1].date()\n",
    "fecha = ultima_fecha\n",
    "hoy = datetime.today().date()\n",
    "\n",
    "rango = hoy - ultima_fecha\n",
    "rango = rango.days\n",
    "rango\n",
    "\n",
    "\n",
    "nuevos_boes = []\n",
    "\n",
    "for i in range(rango):\n",
    "    fecha += timedelta(days=1)\n",
    "    fecha_str = str(fecha.date()).replace(\"-\",\"\")\n",
    "    u = \"https://boe.es/diario_boe/xml.php?id=BOE-S-{0}\".format(fecha_str)\n",
    "    nuevos_boes.append(u)\n",
    "\n",
    "nuevos_boes\n"
   ]
  },
  {
   "cell_type": "code",
   "execution_count": 84,
   "metadata": {},
   "outputs": [
    {
     "data": {
      "text/plain": [
       "datetime.date(2022, 8, 5)"
      ]
     },
     "execution_count": 84,
     "metadata": {},
     "output_type": "execute_result"
    }
   ],
   "source": [
    "fecha"
   ]
  },
  {
   "cell_type": "code",
   "execution_count": 71,
   "metadata": {},
   "outputs": [
    {
     "name": "stderr",
     "output_type": "stream",
     "text": [
      "100%|██████████| 2/2 [00:01<00:00,  1.28it/s]\n"
     ]
    }
   ],
   "source": [
    "for url in tqdm(nuevos_boes):\n",
    "    \n",
    "    var = urlopen(url)\n",
    "    doc = etree.parse(var)\n",
    "    raiz = doc.getroot()\n",
    "\n",
    "    try:\n",
    "        meta = raiz[0]\n",
    "    except IndexError:\n",
    "        meta = \"NO META\"\n",
    "    \n",
    "    try:\n",
    "        diario = raiz[1]\n",
    "    except IndexError:\n",
    "        diario = \"NO DIARIO\"\n",
    "\n",
    "    try:\n",
    "        boe = diario.getchildren()[0].attrib.values()[0]\n",
    "    except AttributeError:\n",
    "        boe = \"NO BOE\"\n",
    "    try:\n",
    "        url_pdf = diario.getchildren()[0].find(\"urlPdf\").text\n",
    "    except AttributeError:\n",
    "        url_pdf = \"NO URL\"\n",
    "\n",
    "    try:\n",
    "        fecha = meta[2].text\n",
    "    except IndexError:\n",
    "        fecha = \"NO FECHA\"\n",
    "\n",
    "    full = []\n",
    "\n",
    "    try:\n",
    "        for i in diario.getchildren():\n",
    "            for j in i:\n",
    "                for z in j:\n",
    "                    for a in z:\n",
    "                        for b in a:\n",
    "                            if not b.text.startswith(\"/\"):\n",
    "                                full.append([i.attrib.values()[1], j.attrib.values()[0], j.attrib.values()[1], z.attrib.values()[0], b.text, fecha, boe, url_pdf,url])\n",
    "    except AttributeError:\n",
    "        full.append([\"Error\",\"Error\",\"Error\",\"Error\",\"Error\",pd.to_datetime(url[-8:]),\"Error\",\"Error\",url])\n",
    "    \n",
    "    df_ = pd.DataFrame(full, columns=[\"departamento\", \"ministerio\", \"etiqueta\", \"epigrafe\", \"text\", \"fecha\", \"boe\",\"pdf\", \"url\"])\n",
    "    df = pd.concat([df,df_], axis=0)\n",
    "\n",
    "#df.to_csv(\"boe_felipe.csv\")\n",
    "\n"
   ]
  },
  {
   "cell_type": "code",
   "execution_count": 76,
   "metadata": {},
   "outputs": [
    {
     "data": {
      "text/plain": [
       "[]"
      ]
     },
     "execution_count": 76,
     "metadata": {},
     "output_type": "execute_result"
    }
   ],
   "source": [
    "full"
   ]
  },
  {
   "cell_type": "code",
   "execution_count": 569,
   "metadata": {},
   "outputs": [],
   "source": [
    "df_csv = pd.read_csv(\"boe_felipe.csv\")\n",
    "boe_df = df_csv.copy()\n",
    "boe_df.drop(\"Epigrafe\", axis=1, inplace=True)\n",
    "boe_df.fecha = pd.to_datetime(boe_df.fecha, dayfirst=True)\n",
    "boe_df.drop(\"Unnamed: 0\", axis=1, inplace=True)\n",
    "boe_error_df = boe_df[boe_df.departamento == \"Error\"]\n",
    "boe_df.drop(boe_df[boe_df.departamento == \"Error\"].index, inplace=True)\n",
    "boe_df[\"gobierno\"] = 0"
   ]
  },
  {
   "cell_type": "code",
   "execution_count": 600,
   "metadata": {},
   "outputs": [],
   "source": [
    "felipe_1 = (boe_df['fecha'] >= '1982-12-2') & (boe_df['fecha'] <= '1986-07-22')\n",
    "felipe_2 = (boe_df['fecha'] >= '1986-07-23') & (boe_df['fecha'] <= '1989-10-30')\n",
    "felipe_3 = (boe_df['fecha'] >= '1989-10-31') & (boe_df['fecha'] <= '1993-06-07')\n",
    "felipe_4 = (boe_df['fecha'] >= '1993-06-08') & (boe_df['fecha'] <= '1996-05-03')\n",
    "\n",
    "aznar_1 = (boe_df['fecha'] >= '1996-05-04') & (boe_df['fecha'] <= '2000-03-04')\n",
    "aznar_2 = (boe_df['fecha'] >= '2000-03-05') & (boe_df['fecha'] <= '2004-04-16')\n",
    "\n",
    "zapatero_1 = (boe_df['fecha'] >= '2004-04-17') & (boe_df['fecha'] <= '2008-03-10')\n",
    "zapatero_2 = (boe_df['fecha'] >= '2008-03-10') & (boe_df['fecha'] <= '2011-12-20')\n",
    "\n",
    "rajoy_1 = (boe_df['fecha'] >= '2011-12-21') & (boe_df['fecha'] <= '2015-12-21')\n",
    "rajoy_2 = (boe_df['fecha'] >= '2015-12-22') & (boe_df['fecha'] <= '2018-06-01')\n",
    "\n",
    "sanchez_1 = (boe_df['fecha'] >= '2018-06-02') & (boe_df['fecha'] <= '2019-04-29')\n",
    "sanchez_2 = (boe_df['fecha'] >= '2019-04-30')"
   ]
  },
  {
   "cell_type": "code",
   "execution_count": 602,
   "metadata": {},
   "outputs": [
    {
     "data": {
      "text/html": [
       "<div>\n",
       "<style scoped>\n",
       "    .dataframe tbody tr th:only-of-type {\n",
       "        vertical-align: middle;\n",
       "    }\n",
       "\n",
       "    .dataframe tbody tr th {\n",
       "        vertical-align: top;\n",
       "    }\n",
       "\n",
       "    .dataframe thead th {\n",
       "        text-align: right;\n",
       "    }\n",
       "</style>\n",
       "<table border=\"1\" class=\"dataframe\">\n",
       "  <thead>\n",
       "    <tr style=\"text-align: right;\">\n",
       "      <th></th>\n",
       "      <th>departamento</th>\n",
       "      <th>ministerio</th>\n",
       "      <th>etiqueta</th>\n",
       "      <th>text</th>\n",
       "      <th>fecha</th>\n",
       "      <th>boe</th>\n",
       "      <th>pdf</th>\n",
       "      <th>epigrafe</th>\n",
       "      <th>url</th>\n",
       "      <th>gobierno</th>\n",
       "    </tr>\n",
       "  </thead>\n",
       "  <tbody>\n",
       "    <tr>\n",
       "      <th>467734</th>\n",
       "      <td>III. Otras disposiciones</td>\n",
       "      <td>MINISTERIO DE JUSTICIA</td>\n",
       "      <td>4810</td>\n",
       "      <td>Suplemento</td>\n",
       "      <td>2000-04-06</td>\n",
       "      <td>BOE-S-2000-83</td>\n",
       "      <td>/boe/dias/2000/04/06/pdfs/BOE-S-2000-83.pdf</td>\n",
       "      <td>BOE-A-2000-6630</td>\n",
       "      <td>https://boe.es/diario_boe/xml.php?id=BOE-S-200...</td>\n",
       "      <td>Aznar_2</td>\n",
       "    </tr>\n",
       "    <tr>\n",
       "      <th>467738</th>\n",
       "      <td>III. Otras disposiciones</td>\n",
       "      <td>MINISTERIO DE ASUNTOS EXTERIORES</td>\n",
       "      <td>7110</td>\n",
       "      <td>Suplemento</td>\n",
       "      <td>2000-04-26</td>\n",
       "      <td>BOE-S-2000-100</td>\n",
       "      <td>/boe/dias/2000/04/26/pdfs/BOE-S-2000-100.pdf</td>\n",
       "      <td>BOE-A-2000-7790</td>\n",
       "      <td>https://boe.es/diario_boe/xml.php?id=BOE-S-200...</td>\n",
       "      <td>Aznar_2</td>\n",
       "    </tr>\n",
       "    <tr>\n",
       "      <th>467741</th>\n",
       "      <td>III. Otras disposiciones</td>\n",
       "      <td>MINISTERIO DE TRABAJO Y ASUNTOS SOCIALES</td>\n",
       "      <td>4430</td>\n",
       "      <td>Suplemento</td>\n",
       "      <td>2000-05-10</td>\n",
       "      <td>BOE-S-2000-112</td>\n",
       "      <td>/boe/dias/2000/05/10/pdfs/BOE-S-2000-112.pdf</td>\n",
       "      <td>BOE-A-2000-8679</td>\n",
       "      <td>https://boe.es/diario_boe/xml.php?id=BOE-S-200...</td>\n",
       "      <td>Aznar_2</td>\n",
       "    </tr>\n",
       "    <tr>\n",
       "      <th>467744</th>\n",
       "      <td>III. Otras disposiciones</td>\n",
       "      <td>MINISTERIO DE EDUCACIÓN Y CULTURA</td>\n",
       "      <td>4240</td>\n",
       "      <td>Resolución de 10 de abril del 2000, de la Secr...</td>\n",
       "      <td>2000-05-22</td>\n",
       "      <td>BOE-S-2000-122</td>\n",
       "      <td>/boe/dias/2000/05/22/pdfs/BOE-S-2000-122.pdf</td>\n",
       "      <td>Cursos de especialización</td>\n",
       "      <td>https://boe.es/diario_boe/xml.php?id=BOE-S-200...</td>\n",
       "      <td>Aznar_2</td>\n",
       "    </tr>\n",
       "    <tr>\n",
       "      <th>467745</th>\n",
       "      <td>III. Otras disposiciones</td>\n",
       "      <td>MINISTERIO DE EDUCACIÓN Y CULTURA</td>\n",
       "      <td>4240</td>\n",
       "      <td>Resolución de 19 de abril de 2000, de la Secre...</td>\n",
       "      <td>2000-05-22</td>\n",
       "      <td>BOE-S-2000-122</td>\n",
       "      <td>/boe/dias/2000/05/22/pdfs/BOE-S-2000-122.pdf</td>\n",
       "      <td>Subvenciones</td>\n",
       "      <td>https://boe.es/diario_boe/xml.php?id=BOE-S-200...</td>\n",
       "      <td>Aznar_2</td>\n",
       "    </tr>\n",
       "    <tr>\n",
       "      <th>...</th>\n",
       "      <td>...</td>\n",
       "      <td>...</td>\n",
       "      <td>...</td>\n",
       "      <td>...</td>\n",
       "      <td>...</td>\n",
       "      <td>...</td>\n",
       "      <td>...</td>\n",
       "      <td>...</td>\n",
       "      <td>...</td>\n",
       "      <td>...</td>\n",
       "    </tr>\n",
       "    <tr>\n",
       "      <th>468178</th>\n",
       "      <td>III. Otras disposiciones</td>\n",
       "      <td>CORTES GENERALES</td>\n",
       "      <td>1220</td>\n",
       "      <td>Suplemento</td>\n",
       "      <td>2004-03-05</td>\n",
       "      <td>BOE-S-2004-56</td>\n",
       "      <td>/boe/dias/2004/03/05/pdfs/BOE-S-2004-56.pdf</td>\n",
       "      <td>BOE-A-2004-4076</td>\n",
       "      <td>https://boe.es/diario_boe/xml.php?id=BOE-S-200...</td>\n",
       "      <td>Aznar_2</td>\n",
       "    </tr>\n",
       "    <tr>\n",
       "      <th>468180</th>\n",
       "      <td>I. Disposiciones generales</td>\n",
       "      <td>MINISTERIO DE LA PRESIDENCIA</td>\n",
       "      <td>7710</td>\n",
       "      <td>Suplemento</td>\n",
       "      <td>2004-03-09</td>\n",
       "      <td>BOE-S-2004-59</td>\n",
       "      <td>/boe/dias/2004/03/09/pdfs/BOE-S-2004-59.pdf</td>\n",
       "      <td>BOE-A-2004-4219</td>\n",
       "      <td>https://boe.es/diario_boe/xml.php?id=BOE-S-200...</td>\n",
       "      <td>Aznar_2</td>\n",
       "    </tr>\n",
       "    <tr>\n",
       "      <th>468186</th>\n",
       "      <td>I. Disposiciones generales</td>\n",
       "      <td>MINISTERIO DE ASUNTOS EXTERIORES</td>\n",
       "      <td>7110</td>\n",
       "      <td>Suplemento</td>\n",
       "      <td>2004-04-12</td>\n",
       "      <td>BOE-S-2004-88</td>\n",
       "      <td>/boe/dias/2004/04/12/pdfs/BOE-S-2004-88.pdf</td>\n",
       "      <td>BOE-A-2004-6401</td>\n",
       "      <td>https://boe.es/diario_boe/xml.php?id=BOE-S-200...</td>\n",
       "      <td>Aznar_2</td>\n",
       "    </tr>\n",
       "    <tr>\n",
       "      <th>468187</th>\n",
       "      <td>I. Disposiciones generales</td>\n",
       "      <td>MINISTERIO DE ASUNTOS EXTERIORES</td>\n",
       "      <td>7110</td>\n",
       "      <td>Suplemento</td>\n",
       "      <td>2004-04-14</td>\n",
       "      <td>BOE-S-2004-90</td>\n",
       "      <td>/boe/dias/2004/04/14/pdfs/BOE-S-2004-90.pdf</td>\n",
       "      <td>BOE-A-2004-6525</td>\n",
       "      <td>https://boe.es/diario_boe/xml.php?id=BOE-S-200...</td>\n",
       "      <td>Aznar_2</td>\n",
       "    </tr>\n",
       "    <tr>\n",
       "      <th>468188</th>\n",
       "      <td>I. Disposiciones generales</td>\n",
       "      <td>MINISTERIO DE ASUNTOS EXTERIORES</td>\n",
       "      <td>7110</td>\n",
       "      <td>Suplemento</td>\n",
       "      <td>2004-04-15</td>\n",
       "      <td>BOE-S-2004-91</td>\n",
       "      <td>/boe/dias/2004/04/15/pdfs/BOE-S-2004-91.pdf</td>\n",
       "      <td>BOE-A-2004-6637</td>\n",
       "      <td>https://boe.es/diario_boe/xml.php?id=BOE-S-200...</td>\n",
       "      <td>Aznar_2</td>\n",
       "    </tr>\n",
       "  </tbody>\n",
       "</table>\n",
       "<p>245 rows × 10 columns</p>\n",
       "</div>"
      ],
      "text/plain": [
       "                      departamento                                ministerio  \\\n",
       "467734    III. Otras disposiciones                    MINISTERIO DE JUSTICIA   \n",
       "467738    III. Otras disposiciones          MINISTERIO DE ASUNTOS EXTERIORES   \n",
       "467741    III. Otras disposiciones  MINISTERIO DE TRABAJO Y ASUNTOS SOCIALES   \n",
       "467744    III. Otras disposiciones         MINISTERIO DE EDUCACIÓN Y CULTURA   \n",
       "467745    III. Otras disposiciones         MINISTERIO DE EDUCACIÓN Y CULTURA   \n",
       "...                            ...                                       ...   \n",
       "468178    III. Otras disposiciones                          CORTES GENERALES   \n",
       "468180  I. Disposiciones generales              MINISTERIO DE LA PRESIDENCIA   \n",
       "468186  I. Disposiciones generales          MINISTERIO DE ASUNTOS EXTERIORES   \n",
       "468187  I. Disposiciones generales          MINISTERIO DE ASUNTOS EXTERIORES   \n",
       "468188  I. Disposiciones generales          MINISTERIO DE ASUNTOS EXTERIORES   \n",
       "\n",
       "       etiqueta                                               text      fecha  \\\n",
       "467734     4810                                         Suplemento 2000-04-06   \n",
       "467738     7110                                         Suplemento 2000-04-26   \n",
       "467741     4430                                         Suplemento 2000-05-10   \n",
       "467744     4240  Resolución de 10 de abril del 2000, de la Secr... 2000-05-22   \n",
       "467745     4240  Resolución de 19 de abril de 2000, de la Secre... 2000-05-22   \n",
       "...         ...                                                ...        ...   \n",
       "468178     1220                                         Suplemento 2004-03-05   \n",
       "468180     7710                                         Suplemento 2004-03-09   \n",
       "468186     7110                                         Suplemento 2004-04-12   \n",
       "468187     7110                                         Suplemento 2004-04-14   \n",
       "468188     7110                                         Suplemento 2004-04-15   \n",
       "\n",
       "                   boe                                           pdf  \\\n",
       "467734   BOE-S-2000-83   /boe/dias/2000/04/06/pdfs/BOE-S-2000-83.pdf   \n",
       "467738  BOE-S-2000-100  /boe/dias/2000/04/26/pdfs/BOE-S-2000-100.pdf   \n",
       "467741  BOE-S-2000-112  /boe/dias/2000/05/10/pdfs/BOE-S-2000-112.pdf   \n",
       "467744  BOE-S-2000-122  /boe/dias/2000/05/22/pdfs/BOE-S-2000-122.pdf   \n",
       "467745  BOE-S-2000-122  /boe/dias/2000/05/22/pdfs/BOE-S-2000-122.pdf   \n",
       "...                ...                                           ...   \n",
       "468178   BOE-S-2004-56   /boe/dias/2004/03/05/pdfs/BOE-S-2004-56.pdf   \n",
       "468180   BOE-S-2004-59   /boe/dias/2004/03/09/pdfs/BOE-S-2004-59.pdf   \n",
       "468186   BOE-S-2004-88   /boe/dias/2004/04/12/pdfs/BOE-S-2004-88.pdf   \n",
       "468187   BOE-S-2004-90   /boe/dias/2004/04/14/pdfs/BOE-S-2004-90.pdf   \n",
       "468188   BOE-S-2004-91   /boe/dias/2004/04/15/pdfs/BOE-S-2004-91.pdf   \n",
       "\n",
       "                         epigrafe  \\\n",
       "467734            BOE-A-2000-6630   \n",
       "467738            BOE-A-2000-7790   \n",
       "467741            BOE-A-2000-8679   \n",
       "467744  Cursos de especialización   \n",
       "467745               Subvenciones   \n",
       "...                           ...   \n",
       "468178            BOE-A-2004-4076   \n",
       "468180            BOE-A-2004-4219   \n",
       "468186            BOE-A-2004-6401   \n",
       "468187            BOE-A-2004-6525   \n",
       "468188            BOE-A-2004-6637   \n",
       "\n",
       "                                                      url gobierno  \n",
       "467734  https://boe.es/diario_boe/xml.php?id=BOE-S-200...  Aznar_2  \n",
       "467738  https://boe.es/diario_boe/xml.php?id=BOE-S-200...  Aznar_2  \n",
       "467741  https://boe.es/diario_boe/xml.php?id=BOE-S-200...  Aznar_2  \n",
       "467744  https://boe.es/diario_boe/xml.php?id=BOE-S-200...  Aznar_2  \n",
       "467745  https://boe.es/diario_boe/xml.php?id=BOE-S-200...  Aznar_2  \n",
       "...                                                   ...      ...  \n",
       "468178  https://boe.es/diario_boe/xml.php?id=BOE-S-200...  Aznar_2  \n",
       "468180  https://boe.es/diario_boe/xml.php?id=BOE-S-200...  Aznar_2  \n",
       "468186  https://boe.es/diario_boe/xml.php?id=BOE-S-200...  Aznar_2  \n",
       "468187  https://boe.es/diario_boe/xml.php?id=BOE-S-200...  Aznar_2  \n",
       "468188  https://boe.es/diario_boe/xml.php?id=BOE-S-200...  Aznar_2  \n",
       "\n",
       "[245 rows x 10 columns]"
      ]
     },
     "execution_count": 602,
     "metadata": {},
     "output_type": "execute_result"
    }
   ],
   "source": []
  },
  {
   "cell_type": "code",
   "execution_count": 594,
   "metadata": {},
   "outputs": [],
   "source": [
    "boe_df.loc[(boe_df['fecha'] >= '1982-12-2') & (boe_df['fecha'] <= '1986-06-23'), \"gobierno\"] = \"Felipe_1\"\n",
    "boe_df.loc[(boe_df['fecha'] >= '1986-07-23') & (boe_df['fecha'] <= '1989-10-30'), \"gobierno\"] = \"Felipe_2\"\n",
    "boe_df.loc[(boe_df['fecha'] >= '1989-10-31') & (boe_df['fecha'] <= '1993-06-07'), \"gobierno\"] = \"Felipe_3\"\n",
    "boe_df.loc[(boe_df['fecha'] >= '1993-06-08') & (boe_df['fecha'] <= '1996-05-03'), \"gobierno\"] = \"Felipe_4\"\n",
    "\n",
    "boe_df.loc[(boe_df['fecha'] >= '1996-05-04') & (boe_df['fecha'] <= '2000-03-04'),\"gobierno\"] = \"Aznar_1\"\n",
    "boe_df.loc[(boe_df['fecha'] >= '2000-03-05') & (boe_df['fecha'] <= '2004-04-16'), \"gobierno\"] = \"Aznar_2\"\n",
    "\n",
    "boe_df.loc[(boe_df['fecha'] >= '2004-04-17') & (boe_df['fecha'] <= '2008-03-10'), \"gobierno\"] = \"Zapatero_1\"\n",
    "boe_df.loc[(boe_df['fecha'] >= '2008-03-10') & (boe_df['fecha'] <= '2011-12-20'), \"gobierno\"] = \"Zapatero_2\"\n",
    "\n",
    "boe_df.loc[(boe_df['fecha'] >= '2011-12-21') & (boe_df['fecha'] <= '2015-12-21'), \"gobierno\"] = \"Rajoy_1\"\n",
    "boe_df.loc[(boe_df['fecha'] >= '2015-12-22') & (boe_df['fecha'] <= '2018-06-01'), \"gobierno\"] = \"Rajoy_2\"\n",
    "\n",
    "boe_df.loc[(boe_df['fecha'] >= '2018-06-02') & (boe_df['fecha'] <= '2019-04-29'), \"gobierno\"] = \"Sanchez_1\"\n",
    "boe_df.loc[(boe_df['fecha'] >= '2019-04-30'), \"gobierno\"] = \"Sanchez_2\""
   ]
  },
  {
   "cell_type": "code",
   "execution_count": 595,
   "metadata": {},
   "outputs": [
    {
     "data": {
      "text/html": [
       "<div>\n",
       "<style scoped>\n",
       "    .dataframe tbody tr th:only-of-type {\n",
       "        vertical-align: middle;\n",
       "    }\n",
       "\n",
       "    .dataframe tbody tr th {\n",
       "        vertical-align: top;\n",
       "    }\n",
       "\n",
       "    .dataframe thead th {\n",
       "        text-align: right;\n",
       "    }\n",
       "</style>\n",
       "<table border=\"1\" class=\"dataframe\">\n",
       "  <thead>\n",
       "    <tr style=\"text-align: right;\">\n",
       "      <th></th>\n",
       "      <th>departamento</th>\n",
       "      <th>ministerio</th>\n",
       "      <th>etiqueta</th>\n",
       "      <th>text</th>\n",
       "      <th>fecha</th>\n",
       "      <th>boe</th>\n",
       "      <th>pdf</th>\n",
       "      <th>epigrafe</th>\n",
       "      <th>url</th>\n",
       "      <th>gobierno</th>\n",
       "    </tr>\n",
       "  </thead>\n",
       "  <tbody>\n",
       "    <tr>\n",
       "      <th>0</th>\n",
       "      <td>II. Autoridades y personal. - Nombramientos, s...</td>\n",
       "      <td>JEFATURA DEL ESTADO</td>\n",
       "      <td>7723</td>\n",
       "      <td>Real Decreto 3285/1982, de 1 de diciembre, por...</td>\n",
       "      <td>1982-12-02</td>\n",
       "      <td>BOE-S-1982-289</td>\n",
       "      <td>/boe/dias/1982/12/02/pdfs/BOE-S-1982-289.pdf</td>\n",
       "      <td>Nombramientos</td>\n",
       "      <td>https://boe.es/diario_boe/xml.php?id=BOE-S-198...</td>\n",
       "      <td>Felipe_1</td>\n",
       "    </tr>\n",
       "    <tr>\n",
       "      <th>1</th>\n",
       "      <td>II. Autoridades y personal. - Nombramientos, s...</td>\n",
       "      <td>JEFATURA DEL ESTADO</td>\n",
       "      <td>7723</td>\n",
       "      <td>Real Decreto 3286/1982, de 1 de diciembre, por...</td>\n",
       "      <td>1982-12-02</td>\n",
       "      <td>BOE-S-1982-289</td>\n",
       "      <td>/boe/dias/1982/12/02/pdfs/BOE-S-1982-289.pdf</td>\n",
       "      <td>Ceses</td>\n",
       "      <td>https://boe.es/diario_boe/xml.php?id=BOE-S-198...</td>\n",
       "      <td>Felipe_1</td>\n",
       "    </tr>\n",
       "    <tr>\n",
       "      <th>2</th>\n",
       "      <td>II. Autoridades y personal. - Nombramientos, s...</td>\n",
       "      <td>PRESIDENCIA DEL GOBIERNO</td>\n",
       "      <td>7786</td>\n",
       "      <td>Orden de 29 de octubre de 1982 por la que se r...</td>\n",
       "      <td>1982-12-02</td>\n",
       "      <td>BOE-S-1982-289</td>\n",
       "      <td>/boe/dias/1982/12/02/pdfs/BOE-S-1982-289.pdf</td>\n",
       "      <td>Destinos</td>\n",
       "      <td>https://boe.es/diario_boe/xml.php?id=BOE-S-198...</td>\n",
       "      <td>Felipe_1</td>\n",
       "    </tr>\n",
       "    <tr>\n",
       "      <th>3</th>\n",
       "      <td>II. Autoridades y personal. - Nombramientos, s...</td>\n",
       "      <td>PRESIDENCIA DEL GOBIERNO</td>\n",
       "      <td>7786</td>\n",
       "      <td>Orden de 29 de noviembre de 1982 por la que se...</td>\n",
       "      <td>1982-12-02</td>\n",
       "      <td>BOE-S-1982-289</td>\n",
       "      <td>/boe/dias/1982/12/02/pdfs/BOE-S-1982-289.pdf</td>\n",
       "      <td>Destinos</td>\n",
       "      <td>https://boe.es/diario_boe/xml.php?id=BOE-S-198...</td>\n",
       "      <td>Felipe_1</td>\n",
       "    </tr>\n",
       "    <tr>\n",
       "      <th>4</th>\n",
       "      <td>II. Autoridades y personal. - Nombramientos, s...</td>\n",
       "      <td>MINISTERIO DE ASUNTOS EXTERIORES</td>\n",
       "      <td>7110</td>\n",
       "      <td>Orden de 20 de noviembre de 1982 por la que se...</td>\n",
       "      <td>1982-12-02</td>\n",
       "      <td>BOE-S-1982-289</td>\n",
       "      <td>/boe/dias/1982/12/02/pdfs/BOE-S-1982-289.pdf</td>\n",
       "      <td>Ascensos</td>\n",
       "      <td>https://boe.es/diario_boe/xml.php?id=BOE-S-198...</td>\n",
       "      <td>Felipe_1</td>\n",
       "    </tr>\n",
       "    <tr>\n",
       "      <th>...</th>\n",
       "      <td>...</td>\n",
       "      <td>...</td>\n",
       "      <td>...</td>\n",
       "      <td>...</td>\n",
       "      <td>...</td>\n",
       "      <td>...</td>\n",
       "      <td>...</td>\n",
       "      <td>...</td>\n",
       "      <td>...</td>\n",
       "      <td>...</td>\n",
       "    </tr>\n",
       "    <tr>\n",
       "      <th>794773</th>\n",
       "      <td>III. Otras disposiciones</td>\n",
       "      <td>BANCO DE ESPAÑA</td>\n",
       "      <td>1020</td>\n",
       "      <td>Resolución de 3 de agosto de 2022, del Banco d...</td>\n",
       "      <td>2022-08-04</td>\n",
       "      <td>BOE-S-2022-186</td>\n",
       "      <td>/boe/dias/2022/08/04/pdfs/BOE-S-2022-186.pdf</td>\n",
       "      <td>Mercado de divisas</td>\n",
       "      <td>https://boe.es/diario_boe/xml.php?id=BOE-S-202...</td>\n",
       "      <td>Sanchez_2</td>\n",
       "    </tr>\n",
       "    <tr>\n",
       "      <th>794774</th>\n",
       "      <td>III. Otras disposiciones</td>\n",
       "      <td>COMUNIDAD AUTÓNOMA DE CATALUÑA</td>\n",
       "      <td>8070</td>\n",
       "      <td>Resolución de 28 de junio de 2022, de la Direc...</td>\n",
       "      <td>2022-08-04</td>\n",
       "      <td>BOE-S-2022-186</td>\n",
       "      <td>/boe/dias/2022/08/04/pdfs/BOE-S-2022-186.pdf</td>\n",
       "      <td>Entidades de inspección y control</td>\n",
       "      <td>https://boe.es/diario_boe/xml.php?id=BOE-S-202...</td>\n",
       "      <td>Sanchez_2</td>\n",
       "    </tr>\n",
       "    <tr>\n",
       "      <th>794775</th>\n",
       "      <td>III. Otras disposiciones</td>\n",
       "      <td>COMUNIDAD AUTÓNOMA DE CATALUÑA</td>\n",
       "      <td>8070</td>\n",
       "      <td>Resolución de 11 de julio de 2022, de la Direc...</td>\n",
       "      <td>2022-08-04</td>\n",
       "      <td>BOE-S-2022-186</td>\n",
       "      <td>/boe/dias/2022/08/04/pdfs/BOE-S-2022-186.pdf</td>\n",
       "      <td>Homologaciones</td>\n",
       "      <td>https://boe.es/diario_boe/xml.php?id=BOE-S-202...</td>\n",
       "      <td>Sanchez_2</td>\n",
       "    </tr>\n",
       "    <tr>\n",
       "      <th>794776</th>\n",
       "      <td>III. Otras disposiciones</td>\n",
       "      <td>COMUNIDAD DE CASTILLA Y LEÓN</td>\n",
       "      <td>9531</td>\n",
       "      <td>Acuerdo 155/2022, de 21 de julio, de la Junta ...</td>\n",
       "      <td>2022-08-04</td>\n",
       "      <td>BOE-S-2022-186</td>\n",
       "      <td>/boe/dias/2022/08/04/pdfs/BOE-S-2022-186.pdf</td>\n",
       "      <td>Bienes de interés cultural</td>\n",
       "      <td>https://boe.es/diario_boe/xml.php?id=BOE-S-202...</td>\n",
       "      <td>Sanchez_2</td>\n",
       "    </tr>\n",
       "    <tr>\n",
       "      <th>794777</th>\n",
       "      <td>III. Otras disposiciones</td>\n",
       "      <td>COMUNIDAD DE CASTILLA Y LEÓN</td>\n",
       "      <td>9531</td>\n",
       "      <td>Acuerdo 156/2022, de 21 de julio, de la Junta ...</td>\n",
       "      <td>2022-08-04</td>\n",
       "      <td>BOE-S-2022-186</td>\n",
       "      <td>/boe/dias/2022/08/04/pdfs/BOE-S-2022-186.pdf</td>\n",
       "      <td>Bienes de interés cultural</td>\n",
       "      <td>https://boe.es/diario_boe/xml.php?id=BOE-S-202...</td>\n",
       "      <td>Sanchez_2</td>\n",
       "    </tr>\n",
       "  </tbody>\n",
       "</table>\n",
       "<p>792721 rows × 10 columns</p>\n",
       "</div>"
      ],
      "text/plain": [
       "                                             departamento  \\\n",
       "0       II. Autoridades y personal. - Nombramientos, s...   \n",
       "1       II. Autoridades y personal. - Nombramientos, s...   \n",
       "2       II. Autoridades y personal. - Nombramientos, s...   \n",
       "3       II. Autoridades y personal. - Nombramientos, s...   \n",
       "4       II. Autoridades y personal. - Nombramientos, s...   \n",
       "...                                                   ...   \n",
       "794773                           III. Otras disposiciones   \n",
       "794774                           III. Otras disposiciones   \n",
       "794775                           III. Otras disposiciones   \n",
       "794776                           III. Otras disposiciones   \n",
       "794777                           III. Otras disposiciones   \n",
       "\n",
       "                              ministerio etiqueta  \\\n",
       "0                    JEFATURA DEL ESTADO     7723   \n",
       "1                    JEFATURA DEL ESTADO     7723   \n",
       "2               PRESIDENCIA DEL GOBIERNO     7786   \n",
       "3               PRESIDENCIA DEL GOBIERNO     7786   \n",
       "4       MINISTERIO DE ASUNTOS EXTERIORES     7110   \n",
       "...                                  ...      ...   \n",
       "794773                   BANCO DE ESPAÑA     1020   \n",
       "794774    COMUNIDAD AUTÓNOMA DE CATALUÑA     8070   \n",
       "794775    COMUNIDAD AUTÓNOMA DE CATALUÑA     8070   \n",
       "794776      COMUNIDAD DE CASTILLA Y LEÓN     9531   \n",
       "794777      COMUNIDAD DE CASTILLA Y LEÓN     9531   \n",
       "\n",
       "                                                     text      fecha  \\\n",
       "0       Real Decreto 3285/1982, de 1 de diciembre, por... 1982-12-02   \n",
       "1       Real Decreto 3286/1982, de 1 de diciembre, por... 1982-12-02   \n",
       "2       Orden de 29 de octubre de 1982 por la que se r... 1982-12-02   \n",
       "3       Orden de 29 de noviembre de 1982 por la que se... 1982-12-02   \n",
       "4       Orden de 20 de noviembre de 1982 por la que se... 1982-12-02   \n",
       "...                                                   ...        ...   \n",
       "794773  Resolución de 3 de agosto de 2022, del Banco d... 2022-08-04   \n",
       "794774  Resolución de 28 de junio de 2022, de la Direc... 2022-08-04   \n",
       "794775  Resolución de 11 de julio de 2022, de la Direc... 2022-08-04   \n",
       "794776  Acuerdo 155/2022, de 21 de julio, de la Junta ... 2022-08-04   \n",
       "794777  Acuerdo 156/2022, de 21 de julio, de la Junta ... 2022-08-04   \n",
       "\n",
       "                   boe                                           pdf  \\\n",
       "0       BOE-S-1982-289  /boe/dias/1982/12/02/pdfs/BOE-S-1982-289.pdf   \n",
       "1       BOE-S-1982-289  /boe/dias/1982/12/02/pdfs/BOE-S-1982-289.pdf   \n",
       "2       BOE-S-1982-289  /boe/dias/1982/12/02/pdfs/BOE-S-1982-289.pdf   \n",
       "3       BOE-S-1982-289  /boe/dias/1982/12/02/pdfs/BOE-S-1982-289.pdf   \n",
       "4       BOE-S-1982-289  /boe/dias/1982/12/02/pdfs/BOE-S-1982-289.pdf   \n",
       "...                ...                                           ...   \n",
       "794773  BOE-S-2022-186  /boe/dias/2022/08/04/pdfs/BOE-S-2022-186.pdf   \n",
       "794774  BOE-S-2022-186  /boe/dias/2022/08/04/pdfs/BOE-S-2022-186.pdf   \n",
       "794775  BOE-S-2022-186  /boe/dias/2022/08/04/pdfs/BOE-S-2022-186.pdf   \n",
       "794776  BOE-S-2022-186  /boe/dias/2022/08/04/pdfs/BOE-S-2022-186.pdf   \n",
       "794777  BOE-S-2022-186  /boe/dias/2022/08/04/pdfs/BOE-S-2022-186.pdf   \n",
       "\n",
       "                                 epigrafe  \\\n",
       "0                           Nombramientos   \n",
       "1                                   Ceses   \n",
       "2                                Destinos   \n",
       "3                                Destinos   \n",
       "4                                Ascensos   \n",
       "...                                   ...   \n",
       "794773                 Mercado de divisas   \n",
       "794774  Entidades de inspección y control   \n",
       "794775                     Homologaciones   \n",
       "794776         Bienes de interés cultural   \n",
       "794777         Bienes de interés cultural   \n",
       "\n",
       "                                                      url   gobierno  \n",
       "0       https://boe.es/diario_boe/xml.php?id=BOE-S-198...   Felipe_1  \n",
       "1       https://boe.es/diario_boe/xml.php?id=BOE-S-198...   Felipe_1  \n",
       "2       https://boe.es/diario_boe/xml.php?id=BOE-S-198...   Felipe_1  \n",
       "3       https://boe.es/diario_boe/xml.php?id=BOE-S-198...   Felipe_1  \n",
       "4       https://boe.es/diario_boe/xml.php?id=BOE-S-198...   Felipe_1  \n",
       "...                                                   ...        ...  \n",
       "794773  https://boe.es/diario_boe/xml.php?id=BOE-S-202...  Sanchez_2  \n",
       "794774  https://boe.es/diario_boe/xml.php?id=BOE-S-202...  Sanchez_2  \n",
       "794775  https://boe.es/diario_boe/xml.php?id=BOE-S-202...  Sanchez_2  \n",
       "794776  https://boe.es/diario_boe/xml.php?id=BOE-S-202...  Sanchez_2  \n",
       "794777  https://boe.es/diario_boe/xml.php?id=BOE-S-202...  Sanchez_2  \n",
       "\n",
       "[792721 rows x 10 columns]"
      ]
     },
     "execution_count": 595,
     "metadata": {},
     "output_type": "execute_result"
    }
   ],
   "source": [
    "boe_df"
   ]
  },
  {
   "cell_type": "code",
   "execution_count": 605,
   "metadata": {},
   "outputs": [],
   "source": [
    "boe_df[\"color\"] = 0"
   ]
  },
  {
   "cell_type": "code",
   "execution_count": 606,
   "metadata": {},
   "outputs": [],
   "source": [
    "boe_df.loc[(boe_df['gobierno'] == 'Aznar_1') | (boe_df['gobierno'] == 'Aznar_2') | (boe_df['gobierno'] == 'Rajoy_1') | (boe_df['gobierno'] == 'Rajoy_2'), \"color\"] = \"Derecha\"\n",
    "boe_df.loc[(boe_df['gobierno'] == 'Felipe_1') | (boe_df['gobierno'] == 'Felipe_2') | (boe_df['gobierno'] == 'Felipe_3') | (boe_df['gobierno'] == 'Felipe_4') | (boe_df['gobierno'] == 'Zapatero_1') | (boe_df['gobierno'] == 'Zapatero_2') | (boe_df['gobierno'] == 'Sanchez_1') | (boe_df['gobierno'] == 'Sanchez_2') , \"color\"] = \"Izquierda\""
   ]
  },
  {
   "cell_type": "code",
   "execution_count": 607,
   "metadata": {},
   "outputs": [
    {
     "data": {
      "text/plain": [
       "<AxesSubplot:xlabel='color'>"
      ]
     },
     "execution_count": 607,
     "metadata": {},
     "output_type": "execute_result"
    },
    {
     "data": {
      "image/png": "[encoded data removed]",
      "text/plain": [
       "<Figure size 432x288 with 1 Axes>"
      ]
     },
     "metadata": {
      "needs_background": "light"
     },
     "output_type": "display_data"
    }
   ],
   "source": [
    "boe_df.groupby(\"color\").size().plot.bar()"
   ]
  },
  {
   "cell_type": "markdown",
   "metadata": {},
   "source": [
    "boe_df.info()"
   ]
  },
  {
   "cell_type": "code",
   "execution_count": 616,
   "metadata": {},
   "outputs": [
    {
     "name": "stdout",
     "output_type": "stream",
     "text": [
      "<class 'pandas.core.frame.DataFrame'>\n",
      "Int64Index: 792721 entries, 0 to 794777\n",
      "Data columns (total 11 columns):\n",
      " #   Column        Non-Null Count   Dtype         \n",
      "---  ------        --------------   -----         \n",
      " 0   departamento  792721 non-null  object        \n",
      " 1   ministerio    792721 non-null  object        \n",
      " 2   etiqueta      792721 non-null  object        \n",
      " 3   text          792721 non-null  object        \n",
      " 4   fecha         792721 non-null  datetime64[ns]\n",
      " 5   boe           792721 non-null  object        \n",
      " 6   pdf           792721 non-null  object        \n",
      " 7   epigrafe      792721 non-null  object        \n",
      " 8   url           792721 non-null  object        \n",
      " 9   gobierno      792721 non-null  object        \n",
      " 10  color         792721 non-null  object        \n",
      "dtypes: datetime64[ns](1), object(10)\n",
      "memory usage: 88.7+ MB\n"
     ]
    }
   ],
   "source": [
    "boe_df.info()"
   ]
  },
  {
   "cell_type": "code",
   "execution_count": 618,
   "metadata": {},
   "outputs": [],
   "source": [
    "felipe_df = boe_df[boe_df[\"gobierno\"].str.contains(\"Felipe\", na=False)]\n",
    "aznar_df = boe_df[boe_df[\"gobierno\"].str.contains(\"Aznar\", na=False)]\n",
    "zapatero_df = boe_df[boe_df[\"gobierno\"].str.contains(\"Zapatero\", na=False)]\n",
    "rajoy_df = boe_df[boe_df[\"gobierno\"].str.contains(\"Rajoy\", na=False)]\n",
    "sanchez_df = boe_df[boe_df[\"gobierno\"].str.contains(\"Sanchez\", na=False)]"
   ]
  },
  {
   "cell_type": "code",
   "execution_count": 635,
   "metadata": {},
   "outputs": [
    {
     "data": {
      "text/html": [
       "<div>\n",
       "<style scoped>\n",
       "    .dataframe tbody tr th:only-of-type {\n",
       "        vertical-align: middle;\n",
       "    }\n",
       "\n",
       "    .dataframe tbody tr th {\n",
       "        vertical-align: top;\n",
       "    }\n",
       "\n",
       "    .dataframe thead th {\n",
       "        text-align: right;\n",
       "    }\n",
       "</style>\n",
       "<table border=\"1\" class=\"dataframe\">\n",
       "  <thead>\n",
       "    <tr style=\"text-align: right;\">\n",
       "      <th></th>\n",
       "      <th>departamento</th>\n",
       "      <th>ministerio</th>\n",
       "      <th>etiqueta</th>\n",
       "      <th>text</th>\n",
       "      <th>fecha</th>\n",
       "      <th>boe</th>\n",
       "      <th>pdf</th>\n",
       "      <th>epigrafe</th>\n",
       "      <th>url</th>\n",
       "      <th>gobierno</th>\n",
       "      <th>color</th>\n",
       "    </tr>\n",
       "  </thead>\n",
       "  <tbody>\n",
       "    <tr>\n",
       "      <th>0</th>\n",
       "      <td>II. Autoridades y personal. - Nombramientos, s...</td>\n",
       "      <td>JEFATURA DEL ESTADO</td>\n",
       "      <td>7723</td>\n",
       "      <td>Real Decreto 3285/1982, de 1 de diciembre, por...</td>\n",
       "      <td>1982-12-02</td>\n",
       "      <td>BOE-S-1982-289</td>\n",
       "      <td>/boe/dias/1982/12/02/pdfs/BOE-S-1982-289.pdf</td>\n",
       "      <td>Nombramientos</td>\n",
       "      <td>https://boe.es/diario_boe/xml.php?id=BOE-S-198...</td>\n",
       "      <td>Felipe_1</td>\n",
       "      <td>Izquierda</td>\n",
       "    </tr>\n",
       "    <tr>\n",
       "      <th>1</th>\n",
       "      <td>II. Autoridades y personal. - Nombramientos, s...</td>\n",
       "      <td>JEFATURA DEL ESTADO</td>\n",
       "      <td>7723</td>\n",
       "      <td>Real Decreto 3286/1982, de 1 de diciembre, por...</td>\n",
       "      <td>1982-12-02</td>\n",
       "      <td>BOE-S-1982-289</td>\n",
       "      <td>/boe/dias/1982/12/02/pdfs/BOE-S-1982-289.pdf</td>\n",
       "      <td>Ceses</td>\n",
       "      <td>https://boe.es/diario_boe/xml.php?id=BOE-S-198...</td>\n",
       "      <td>Felipe_1</td>\n",
       "      <td>Izquierda</td>\n",
       "    </tr>\n",
       "    <tr>\n",
       "      <th>2</th>\n",
       "      <td>II. Autoridades y personal. - Nombramientos, s...</td>\n",
       "      <td>PRESIDENCIA DEL GOBIERNO</td>\n",
       "      <td>7786</td>\n",
       "      <td>Orden de 29 de octubre de 1982 por la que se r...</td>\n",
       "      <td>1982-12-02</td>\n",
       "      <td>BOE-S-1982-289</td>\n",
       "      <td>/boe/dias/1982/12/02/pdfs/BOE-S-1982-289.pdf</td>\n",
       "      <td>Destinos</td>\n",
       "      <td>https://boe.es/diario_boe/xml.php?id=BOE-S-198...</td>\n",
       "      <td>Felipe_1</td>\n",
       "      <td>Izquierda</td>\n",
       "    </tr>\n",
       "    <tr>\n",
       "      <th>3</th>\n",
       "      <td>II. Autoridades y personal. - Nombramientos, s...</td>\n",
       "      <td>PRESIDENCIA DEL GOBIERNO</td>\n",
       "      <td>7786</td>\n",
       "      <td>Orden de 29 de noviembre de 1982 por la que se...</td>\n",
       "      <td>1982-12-02</td>\n",
       "      <td>BOE-S-1982-289</td>\n",
       "      <td>/boe/dias/1982/12/02/pdfs/BOE-S-1982-289.pdf</td>\n",
       "      <td>Destinos</td>\n",
       "      <td>https://boe.es/diario_boe/xml.php?id=BOE-S-198...</td>\n",
       "      <td>Felipe_1</td>\n",
       "      <td>Izquierda</td>\n",
       "    </tr>\n",
       "    <tr>\n",
       "      <th>4</th>\n",
       "      <td>II. Autoridades y personal. - Nombramientos, s...</td>\n",
       "      <td>MINISTERIO DE ASUNTOS EXTERIORES</td>\n",
       "      <td>7110</td>\n",
       "      <td>Orden de 20 de noviembre de 1982 por la que se...</td>\n",
       "      <td>1982-12-02</td>\n",
       "      <td>BOE-S-1982-289</td>\n",
       "      <td>/boe/dias/1982/12/02/pdfs/BOE-S-1982-289.pdf</td>\n",
       "      <td>Ascensos</td>\n",
       "      <td>https://boe.es/diario_boe/xml.php?id=BOE-S-198...</td>\n",
       "      <td>Felipe_1</td>\n",
       "      <td>Izquierda</td>\n",
       "    </tr>\n",
       "    <tr>\n",
       "      <th>...</th>\n",
       "      <td>...</td>\n",
       "      <td>...</td>\n",
       "      <td>...</td>\n",
       "      <td>...</td>\n",
       "      <td>...</td>\n",
       "      <td>...</td>\n",
       "      <td>...</td>\n",
       "      <td>...</td>\n",
       "      <td>...</td>\n",
       "      <td>...</td>\n",
       "      <td>...</td>\n",
       "    </tr>\n",
       "    <tr>\n",
       "      <th>404968</th>\n",
       "      <td>III. Otras disposiciones</td>\n",
       "      <td>COMUNIDAD AUTÓNOMA DE CATALUÑA</td>\n",
       "      <td>8070</td>\n",
       "      <td>Resolución de 18 de marzo de 1996, de la Direc...</td>\n",
       "      <td>1996-05-03</td>\n",
       "      <td>BOE-S-1996-107</td>\n",
       "      <td>/boe/dias/1996/05/03/pdfs/BOE-S-1996-107.pdf</td>\n",
       "      <td>Homologaciones</td>\n",
       "      <td>https://boe.es/diario_boe/xml.php?id=BOE-S-199...</td>\n",
       "      <td>Felipe_4</td>\n",
       "      <td>Izquierda</td>\n",
       "    </tr>\n",
       "    <tr>\n",
       "      <th>404969</th>\n",
       "      <td>III. Otras disposiciones</td>\n",
       "      <td>COMUNIDAD AUTÓNOMA DE CATALUÑA</td>\n",
       "      <td>8070</td>\n",
       "      <td>Resolución de 19 de marzo de 1996, de la Direc...</td>\n",
       "      <td>1996-05-03</td>\n",
       "      <td>BOE-S-1996-107</td>\n",
       "      <td>/boe/dias/1996/05/03/pdfs/BOE-S-1996-107.pdf</td>\n",
       "      <td>Homologaciones</td>\n",
       "      <td>https://boe.es/diario_boe/xml.php?id=BOE-S-199...</td>\n",
       "      <td>Felipe_4</td>\n",
       "      <td>Izquierda</td>\n",
       "    </tr>\n",
       "    <tr>\n",
       "      <th>404970</th>\n",
       "      <td>III. Otras disposiciones</td>\n",
       "      <td>COMUNIDAD AUTÓNOMA VALENCIANA</td>\n",
       "      <td>8160</td>\n",
       "      <td>Resolución de 22 de febrero de 1996, de la Dir...</td>\n",
       "      <td>1996-05-03</td>\n",
       "      <td>BOE-S-1996-107</td>\n",
       "      <td>/boe/dias/1996/05/03/pdfs/BOE-S-1996-107.pdf</td>\n",
       "      <td>Bienes de interés cultural</td>\n",
       "      <td>https://boe.es/diario_boe/xml.php?id=BOE-S-199...</td>\n",
       "      <td>Felipe_4</td>\n",
       "      <td>Izquierda</td>\n",
       "    </tr>\n",
       "    <tr>\n",
       "      <th>404971</th>\n",
       "      <td>III. Otras disposiciones</td>\n",
       "      <td>ADMINISTRACIÓN LOCAL</td>\n",
       "      <td>9525</td>\n",
       "      <td>Resolución de 8 de abril de 1996, de la Diputa...</td>\n",
       "      <td>1996-05-03</td>\n",
       "      <td>BOE-S-1996-107</td>\n",
       "      <td>/boe/dias/1996/05/03/pdfs/BOE-S-1996-107.pdf</td>\n",
       "      <td>Municipios. Heráldica</td>\n",
       "      <td>https://boe.es/diario_boe/xml.php?id=BOE-S-199...</td>\n",
       "      <td>Felipe_4</td>\n",
       "      <td>Izquierda</td>\n",
       "    </tr>\n",
       "    <tr>\n",
       "      <th>404972</th>\n",
       "      <td>III. Otras disposiciones</td>\n",
       "      <td>UNIVERSIDADES</td>\n",
       "      <td>310</td>\n",
       "      <td>Resolución de 11 de abril de 1996, de la Unive...</td>\n",
       "      <td>1996-05-03</td>\n",
       "      <td>BOE-S-1996-107</td>\n",
       "      <td>/boe/dias/1996/05/03/pdfs/BOE-S-1996-107.pdf</td>\n",
       "      <td>Universidad de La Laguna. Planes de estudios</td>\n",
       "      <td>https://boe.es/diario_boe/xml.php?id=BOE-S-199...</td>\n",
       "      <td>Felipe_4</td>\n",
       "      <td>Izquierda</td>\n",
       "    </tr>\n",
       "  </tbody>\n",
       "</table>\n",
       "<p>401176 rows × 11 columns</p>\n",
       "</div>"
      ],
      "text/plain": [
       "                                             departamento  \\\n",
       "0       II. Autoridades y personal. - Nombramientos, s...   \n",
       "1       II. Autoridades y personal. - Nombramientos, s...   \n",
       "2       II. Autoridades y personal. - Nombramientos, s...   \n",
       "3       II. Autoridades y personal. - Nombramientos, s...   \n",
       "4       II. Autoridades y personal. - Nombramientos, s...   \n",
       "...                                                   ...   \n",
       "404968                           III. Otras disposiciones   \n",
       "404969                           III. Otras disposiciones   \n",
       "404970                           III. Otras disposiciones   \n",
       "404971                           III. Otras disposiciones   \n",
       "404972                           III. Otras disposiciones   \n",
       "\n",
       "                              ministerio etiqueta  \\\n",
       "0                    JEFATURA DEL ESTADO     7723   \n",
       "1                    JEFATURA DEL ESTADO     7723   \n",
       "2               PRESIDENCIA DEL GOBIERNO     7786   \n",
       "3               PRESIDENCIA DEL GOBIERNO     7786   \n",
       "4       MINISTERIO DE ASUNTOS EXTERIORES     7110   \n",
       "...                                  ...      ...   \n",
       "404968    COMUNIDAD AUTÓNOMA DE CATALUÑA     8070   \n",
       "404969    COMUNIDAD AUTÓNOMA DE CATALUÑA     8070   \n",
       "404970     COMUNIDAD AUTÓNOMA VALENCIANA     8160   \n",
       "404971              ADMINISTRACIÓN LOCAL     9525   \n",
       "404972                     UNIVERSIDADES      310   \n",
       "\n",
       "                                                     text      fecha  \\\n",
       "0       Real Decreto 3285/1982, de 1 de diciembre, por... 1982-12-02   \n",
       "1       Real Decreto 3286/1982, de 1 de diciembre, por... 1982-12-02   \n",
       "2       Orden de 29 de octubre de 1982 por la que se r... 1982-12-02   \n",
       "3       Orden de 29 de noviembre de 1982 por la que se... 1982-12-02   \n",
       "4       Orden de 20 de noviembre de 1982 por la que se... 1982-12-02   \n",
       "...                                                   ...        ...   \n",
       "404968  Resolución de 18 de marzo de 1996, de la Direc... 1996-05-03   \n",
       "404969  Resolución de 19 de marzo de 1996, de la Direc... 1996-05-03   \n",
       "404970  Resolución de 22 de febrero de 1996, de la Dir... 1996-05-03   \n",
       "404971  Resolución de 8 de abril de 1996, de la Diputa... 1996-05-03   \n",
       "404972  Resolución de 11 de abril de 1996, de la Unive... 1996-05-03   \n",
       "\n",
       "                   boe                                           pdf  \\\n",
       "0       BOE-S-1982-289  /boe/dias/1982/12/02/pdfs/BOE-S-1982-289.pdf   \n",
       "1       BOE-S-1982-289  /boe/dias/1982/12/02/pdfs/BOE-S-1982-289.pdf   \n",
       "2       BOE-S-1982-289  /boe/dias/1982/12/02/pdfs/BOE-S-1982-289.pdf   \n",
       "3       BOE-S-1982-289  /boe/dias/1982/12/02/pdfs/BOE-S-1982-289.pdf   \n",
       "4       BOE-S-1982-289  /boe/dias/1982/12/02/pdfs/BOE-S-1982-289.pdf   \n",
       "...                ...                                           ...   \n",
       "404968  BOE-S-1996-107  /boe/dias/1996/05/03/pdfs/BOE-S-1996-107.pdf   \n",
       "404969  BOE-S-1996-107  /boe/dias/1996/05/03/pdfs/BOE-S-1996-107.pdf   \n",
       "404970  BOE-S-1996-107  /boe/dias/1996/05/03/pdfs/BOE-S-1996-107.pdf   \n",
       "404971  BOE-S-1996-107  /boe/dias/1996/05/03/pdfs/BOE-S-1996-107.pdf   \n",
       "404972  BOE-S-1996-107  /boe/dias/1996/05/03/pdfs/BOE-S-1996-107.pdf   \n",
       "\n",
       "                                            epigrafe  \\\n",
       "0                                      Nombramientos   \n",
       "1                                              Ceses   \n",
       "2                                           Destinos   \n",
       "3                                           Destinos   \n",
       "4                                           Ascensos   \n",
       "...                                              ...   \n",
       "404968                                Homologaciones   \n",
       "404969                                Homologaciones   \n",
       "404970                    Bienes de interés cultural   \n",
       "404971                         Municipios. Heráldica   \n",
       "404972  Universidad de La Laguna. Planes de estudios   \n",
       "\n",
       "                                                      url  gobierno      color  \n",
       "0       https://boe.es/diario_boe/xml.php?id=BOE-S-198...  Felipe_1  Izquierda  \n",
       "1       https://boe.es/diario_boe/xml.php?id=BOE-S-198...  Felipe_1  Izquierda  \n",
       "2       https://boe.es/diario_boe/xml.php?id=BOE-S-198...  Felipe_1  Izquierda  \n",
       "3       https://boe.es/diario_boe/xml.php?id=BOE-S-198...  Felipe_1  Izquierda  \n",
       "4       https://boe.es/diario_boe/xml.php?id=BOE-S-198...  Felipe_1  Izquierda  \n",
       "...                                                   ...       ...        ...  \n",
       "404968  https://boe.es/diario_boe/xml.php?id=BOE-S-199...  Felipe_4  Izquierda  \n",
       "404969  https://boe.es/diario_boe/xml.php?id=BOE-S-199...  Felipe_4  Izquierda  \n",
       "404970  https://boe.es/diario_boe/xml.php?id=BOE-S-199...  Felipe_4  Izquierda  \n",
       "404971  https://boe.es/diario_boe/xml.php?id=BOE-S-199...  Felipe_4  Izquierda  \n",
       "404972  https://boe.es/diario_boe/xml.php?id=BOE-S-199...  Felipe_4  Izquierda  \n",
       "\n",
       "[401176 rows x 11 columns]"
      ]
     },
     "execution_count": 635,
     "metadata": {},
     "output_type": "execute_result"
    }
   ],
   "source": [
    "felipe_df"
   ]
  },
  {
   "cell_type": "code",
   "execution_count": 627,
   "metadata": {},
   "outputs": [],
   "source": [
    "felipe_days = felipe_df.fecha.max() - felipe_df.fecha.min()\n",
    "felipe_days = felipe_days.days\n",
    "\n",
    "aznar_days = aznar_df.fecha.max() - aznar_df.fecha.min()\n",
    "aznar_days = aznar_days.days\n",
    "\n",
    "zapatero_days = zapatero_df.fecha.max() - zapatero_df.fecha.min()\n",
    "zapatero_days = zapatero_days.days\n",
    "\n",
    "rajoy_days = rajoy_df.fecha.max() - rajoy_df.fecha.min()\n",
    "rajoy_days = rajoy_days.days\n",
    "\n",
    "sanchez_days = sanchez_df.fecha.max() - sanchez_df.fecha.min()\n",
    "sanchez_days = sanchez_days.days"
   ]
  },
  {
   "cell_type": "code",
   "execution_count": 642,
   "metadata": {},
   "outputs": [],
   "source": [
    "felipe_prop = propuestas.Felipe_1 + propuestas.Felipe_2 +propuestas.Felipe_3 + propuestas.Felipe_4\n",
    "aznar_prop = propuestas.Aznar_1 + propuestas.Aznar_2\n",
    "zapatero_prop = propuestas.Zapatero_1 + propuestas.Zapatero_2\n",
    "rajoy_prop = propuestas.Rajoy_1 + propuestas.Rajoy_2\n",
    "sanchez_prop = propuestas.Sanchez_1 + propuestas.Sanchez_2"
   ]
  },
  {
   "cell_type": "code",
   "execution_count": 645,
   "metadata": {},
   "outputs": [],
   "source": [
    "lsita = [[\"Felipe\", felipe_prop/felipe_days], [\"Aznar\", aznar_prop/aznar_days], [\"Zapatero\", zapatero_prop/zapatero_days], [\"Rajoy\", rajoy_prop/rajoy_days], [\"Sanchez\", sanchez_prop/sanchez_days]]\n",
    "prop_df = pd.DataFrame(lsita, columns=[\"Presidente\", \"Ratio\"])"
   ]
  },
  {
   "cell_type": "code",
   "execution_count": 683,
   "metadata": {},
   "outputs": [
    {
     "data": {
      "text/plain": [
       "Nombramientos                                   99163\n",
       "Personal funcionario y laboral                  85378\n",
       "Sentencias                                      71733\n",
       "Destinos                                        25212\n",
       "Homologaciones                                  22240\n",
       "Recursos                                        20019\n",
       "Ceses                                           13366\n",
       "Planes de estudios                              12052\n",
       "Indultos                                        11982\n",
       "Convenios                                       10301\n",
       "Funcionarios de la Administración del Estado    10072\n",
       "Cuerpos Docentes Universitarios                  9984\n",
       "Cuerpos docentes universitarios                  9970\n",
       "Ayudas                                           9121\n",
       "Beneficios fiscales                              8086\n",
       "Situaciones                                      8050\n",
       "Importaciones. Fomento a la exportación          7822\n",
       "Condecoraciones                                  6997\n",
       "Subvenciones                                     6334\n",
       "Convenios colectivos de trabajo                  6082\n",
       "Personal laboral                                 6033\n",
       "Instalaciones eléctricas                         5850\n",
       "Equipos de telecomunicación                      5746\n",
       "Mercado de divisas                               5692\n",
       "Ascensos                                         4968\n",
       "Name: epigrafe, dtype: int64"
      ]
     },
     "execution_count": 683,
     "metadata": {},
     "output_type": "execute_result"
    }
   ],
   "source": [
    "boe_df.epigrafe.value_counts().head(25)"
   ]
  },
  {
   "cell_type": "code",
   "execution_count": 701,
   "metadata": {},
   "outputs": [
    {
     "data": {
      "text/plain": [
       "Nombramientos                     9781\n",
       "Sentencias                        8013\n",
       "Personal funcionario y laboral    8005\n",
       "Equipos de telecomunicación       1889\n",
       "Recursos                          1826\n",
       "Indultos                          1704\n",
       "Destinos                          1682\n",
       "Name: epigrafe, dtype: int64"
      ]
     },
     "execution_count": 701,
     "metadata": {},
     "output_type": "execute_result"
    }
   ],
   "source": [
    "boe_df[boe_df[\"gobierno\"].str.contains(\"Aznar\", na=False)].epigrafe.value_counts().head(7)"
   ]
  },
  {
   "cell_type": "code",
   "execution_count": 700,
   "metadata": {},
   "outputs": [
    {
     "data": {
      "text/plain": [
       "Sentencias                         60104\n",
       "Nombramientos                      55202\n",
       "Personal funcionario y laboral     35992\n",
       "Homologaciones                     13925\n",
       "Cuerpos Docentes Universitarios     8677\n",
       "Destinos                            8047\n",
       "Beneficios fiscales                 7894\n",
       "Name: epigrafe, dtype: int64"
      ]
     },
     "execution_count": 700,
     "metadata": {},
     "output_type": "execute_result"
    }
   ],
   "source": [
    "boe_df[boe_df[\"gobierno\"].str.contains(\"Felipe\", na=False)].epigrafe.value_counts().head(7)"
   ]
  },
  {
   "cell_type": "code",
   "execution_count": 699,
   "metadata": {},
   "outputs": [
    {
     "data": {
      "text/plain": [
       "Nombramientos                                   9127\n",
       "Planes de estudios                              5600\n",
       "Destinos                                        5186\n",
       "Personal funcionario y laboral                  5170\n",
       "Recursos                                        4671\n",
       "Convenios colectivos de trabajo                 2252\n",
       "Funcionarios de la Administración del Estado    2136\n",
       "Name: epigrafe, dtype: int64"
      ]
     },
     "execution_count": 699,
     "metadata": {},
     "output_type": "execute_result"
    }
   ],
   "source": [
    "boe_df[boe_df[\"gobierno\"].str.contains(\"Rajoy\", na=False)].epigrafe.value_counts().head(7)"
   ]
  },
  {
   "cell_type": "code",
   "execution_count": 698,
   "metadata": {},
   "outputs": [
    {
     "data": {
      "text/plain": [
       "Personal funcionario y laboral     24968\n",
       "Nombramientos                      14953\n",
       "Destinos                            6707\n",
       "Recursos                            4591\n",
       "Homologaciones                      4311\n",
       "Cuerpos docentes universitarios     4051\n",
       "Ayudas                              3843\n",
       "Name: epigrafe, dtype: int64"
      ]
     },
     "execution_count": 698,
     "metadata": {},
     "output_type": "execute_result"
    }
   ],
   "source": [
    "boe_df[boe_df[\"gobierno\"].str.contains(\"Zapatero\", na=False)].epigrafe.value_counts().head(7)"
   ]
  },
  {
   "cell_type": "code",
   "execution_count": 697,
   "metadata": {},
   "outputs": [
    {
     "data": {
      "text/plain": [
       "Personal funcionario y laboral     11243\n",
       "Nombramientos                       9638\n",
       "Convenios                           8622\n",
       "Destinos                            3546\n",
       "Recursos                            3299\n",
       "Planes de estudios                  3003\n",
       "Cuerpos docentes universitarios     1784\n",
       "Name: epigrafe, dtype: int64"
      ]
     },
     "execution_count": 697,
     "metadata": {},
     "output_type": "execute_result"
    }
   ],
   "source": [
    "boe_df[boe_df[\"gobierno\"].str.contains(\"Sanchez\", na=False)].epigrafe.value_counts().head(7)"
   ]
  },
  {
   "cell_type": "code",
   "execution_count": 677,
   "metadata": {},
   "outputs": [
    {
     "data": {
      "text/plain": [
       "Aznar_1       15497\n",
       "Zapatero_1     2180\n",
       "Aznar_2         245\n",
       "Name: gobierno, dtype: int64"
      ]
     },
     "execution_count": 677,
     "metadata": {},
     "output_type": "execute_result"
    }
   ],
   "source": [
    "poblema = boe_df[(boe_df[\"fecha\"] > \"1998-01-01\") & (boe_df[\"fecha\"] < (\"2005-01-01\"))]\n",
    "poblema.gobierno.value_counts()"
   ]
  },
  {
   "cell_type": "code",
   "execution_count": 669,
   "metadata": {},
   "outputs": [
    {
     "data": {
      "text/plain": [
       "<AxesSubplot:xlabel='color', ylabel='count'>"
      ]
     },
     "execution_count": 669,
     "metadata": {},
     "output_type": "execute_result"
    },
    {
     "data": {
      "image/png": "[encoded data removed]",
      "text/plain": [
       "<Figure size 576x288 with 1 Axes>"
      ]
     },
     "metadata": {},
     "output_type": "display_data"
    }
   ],
   "source": [
    "\n",
    "sns.countplot(x = \"color\", data=boe_df)"
   ]
  },
  {
   "cell_type": "code",
   "execution_count": 705,
   "metadata": {},
   "outputs": [
    {
     "data": {
      "text/plain": [
       "[<matplotlib.lines.Line2D at 0x2d7d08790>]"
      ]
     },
     "execution_count": 705,
     "metadata": {},
     "output_type": "execute_result"
    },
    {
     "data": {
      "image/png": "[encoded data removed]",
      "text/plain": [
       "<Figure size 1440x432 with 1 Axes>"
      ]
     },
     "metadata": {},
     "output_type": "display_data"
    }
   ],
   "source": [
    "plt.figure(figsize=(20,6))\n",
    "plt.plot(boe_df['fecha'].dt.year.value_counts().sort_index())"
   ]
  },
  {
   "cell_type": "code",
   "execution_count": 661,
   "metadata": {},
   "outputs": [
    {
     "name": "stderr",
     "output_type": "stream",
     "text": [
      "/Users/adriansanchezdelasierra/.pyenv/versions/3.9.2/lib/python3.9/site-packages/seaborn/_decorators.py:36: FutureWarning: Pass the following variable as a keyword arg: x. From version 0.12, the only valid positional argument will be `data`, and passing other arguments without an explicit keyword will result in an error or misinterpretation.\n",
      "  warnings.warn(\n"
     ]
    },
    {
     "data": {
      "image/png": "[encoded data removed]",
      "text/plain": [
       "<Figure size 576x288 with 1 Axes>"
      ]
     },
     "metadata": {},
     "output_type": "display_data"
    }
   ],
   "source": [
    "import matplotlib.pyplot as plt\n",
    "\n",
    "\n",
    "sns.set(rc={\"figure.figsize\": (8, 4)})\n",
    "ax = sns.barplot(prop_df.Ratio, label=\"cor\")\n",
    "plt.show()"
   ]
  },
  {
   "cell_type": "code",
   "execution_count": 597,
   "metadata": {},
   "outputs": [
    {
     "name": "stderr",
     "output_type": "stream",
     "text": [
      "/Users/adriansanchezdelasierra/.pyenv/versions/3.9.2/lib/python3.9/site-packages/seaborn/distributions.py:2619: FutureWarning: `distplot` is a deprecated function and will be removed in a future version. Please adapt your code to use either `displot` (a figure-level function with similar flexibility) or `histplot` (an axes-level function for histograms).\n",
      "  warnings.warn(msg, FutureWarning)\n"
     ]
    },
    {
     "data": {
      "text/plain": [
       "<AxesSubplot:xlabel='gobierno', ylabel='Density'>"
      ]
     },
     "execution_count": 597,
     "metadata": {},
     "output_type": "execute_result"
    },
    {
     "data": {
      "image/png": "[encoded data removed]",
      "text/plain": [
       "<Figure size 432x288 with 1 Axes>"
      ]
     },
     "metadata": {
      "needs_background": "light"
     },
     "output_type": "display_data"
    }
   ],
   "source": [
    "sns.distplot(boe_df.gobierno.value_counts())"
   ]
  },
  {
   "cell_type": "code",
   "execution_count": 521,
   "metadata": {},
   "outputs": [
    {
     "data": {
      "text/plain": [
       "datetime.IsoCalendarDate(year=1983, week=5, weekday=2)"
      ]
     },
     "execution_count": 521,
     "metadata": {},
     "output_type": "execute_result"
    }
   ],
   "source": [
    "pd.to_datetime(url[-8:])"
   ]
  },
  {
   "cell_type": "code",
   "execution_count": 145,
   "metadata": {},
   "outputs": [],
   "source": [
    "# META\n",
    "\n",
    "\n",
    "### SECCION 1\n",
    "\n",
    "# DEPARTAMENTO 1\n",
    "dicti = diario.getchildren()[1].getchildren()[0].attrib\n",
    "x = diario.getchildren()[1].getchildren()[0].attrib.keys()[0]\n",
    "y = diario.getchildren()[1].getchildren()[0].attrib.keys()[1]\n",
    "\n",
    "departamento = dicti[x]\n",
    "etiqueta = dicti[y]\n",
    "\n"
   ]
  },
  {
   "cell_type": "code",
   "execution_count": 208,
   "metadata": {},
   "outputs": [],
   "source": [
    "dep_01 = diario.getchildren()[1].getchildren()[0].attrib\n",
    "titulo_01 = diario.getchildren()[1].getchildren()[0].getchildren()[0].getchildren()[0].getchildren()[0].text\n",
    "id_01 = diario.getchildren()[1].getchildren()[0].getchildren()[0].getchildren()[0].attrib"
   ]
  },
  {
   "cell_type": "code",
   "execution_count": 211,
   "metadata": {},
   "outputs": [
    {
     "data": {
      "text/plain": [
       "{'id': 'BOE-A-2014-10168', 'control': '2014/10183'}"
      ]
     },
     "execution_count": 211,
     "metadata": {},
     "output_type": "execute_result"
    }
   ],
   "source": [
    "id_01"
   ]
  },
  {
   "cell_type": "code",
   "execution_count": null,
   "metadata": {},
   "outputs": [],
   "source": [
    "dep_02 = diario.getchildren()[1].getchildren()[1].attrib\n",
    "\n",
    "# DEPARTAMENTO 2\n",
    "dicti = diario.getchildren()[1].getchildren()[1].attrib\n",
    "x = diario.getchildren()[1].getchildren()[1].attrib.keys()[0]\n",
    "y = diario.getchildren()[1].getchildren()[1].attrib.keys()[1]\n",
    "etiqueta_1 = dicti[y]\n",
    "departamento_1 = dicti[x]\n",
    "departamento_1"
   ]
  },
  {
   "cell_type": "code",
   "execution_count": 207,
   "metadata": {},
   "outputs": [
    {
     "data": {
      "text/plain": [
       "'Orden AEC/1811/2014, de 3 de octubre, por la que se establece la composición de la plantilla de la Carrera Diplomática y su distribución en las diferentes categorías diplomáticas.'"
      ]
     },
     "execution_count": 207,
     "metadata": {},
     "output_type": "execute_result"
    }
   ],
   "source": [
    "titulo_01 = diario.getchildren()[1].getchildren()[0].getchildren()[0].getchildren()[0].getchildren()[0].text"
   ]
  },
  {
   "cell_type": "code",
   "execution_count": 175,
   "metadata": {},
   "outputs": [
    {
     "data": {
      "text/plain": [
       "'Carrera Diplomática'"
      ]
     },
     "execution_count": 175,
     "metadata": {},
     "output_type": "execute_result"
    }
   ],
   "source": [
    "dicti = diario.getchildren()[1].getchildren()[0].getchildren()[0].attrib\n",
    "x = diario.getchildren()[1].getchildren()[1].getchildren()[0].attrib.keys()[0]\n",
    "dicti\n",
    "epigrafe = dicti[x]\n",
    "epigrafe"
   ]
  },
  {
   "cell_type": "code",
   "execution_count": 182,
   "metadata": {},
   "outputs": [
    {
     "ename": "TypeError",
     "evalue": "list indices must be integers or slices, not str",
     "output_type": "error",
     "traceback": [
      "\u001b[0;31m---------------------------------------------------------------------------\u001b[0m",
      "\u001b[0;31mTypeError\u001b[0m                                 Traceback (most recent call last)",
      "\u001b[1;32m/Users/adriansanchezdelasierra/projects/gA repos/trans_courses/boe.ipynb Cell 6\u001b[0m in \u001b[0;36m<cell line: 2>\u001b[0;34m()\u001b[0m\n\u001b[1;32m      <a href='vscode-notebook-cell:/Users/adriansanchezdelasierra/projects/gA%20repos/trans_courses/boe.ipynb#ch0000017?line=0'>1</a>\u001b[0m dicti \u001b[39m=\u001b[39m diario\u001b[39m.\u001b[39mgetchildren()[\u001b[39m1\u001b[39m]\u001b[39m.\u001b[39mgetchildren()[\u001b[39m0\u001b[39m]\u001b[39m.\u001b[39mgetchildren()[\u001b[39m0\u001b[39m]\u001b[39m.\u001b[39mattrib\u001b[39m.\u001b[39mkeys()\n\u001b[0;32m----> <a href='vscode-notebook-cell:/Users/adriansanchezdelasierra/projects/gA%20repos/trans_courses/boe.ipynb#ch0000017?line=1'>2</a>\u001b[0m dicti[\u001b[39m\"\u001b[39;49m\u001b[39mnombre\u001b[39;49m\u001b[39m\"\u001b[39;49m]\n",
      "\u001b[0;31mTypeError\u001b[0m: list indices must be integers or slices, not str"
     ]
    }
   ],
   "source": [
    "dicti = diario.getchildren()[1].getchildren()[0].getchildren()[0].attrib.keys()\n",
    "dicti[\"nombre\"]"
   ]
  },
  {
   "cell_type": "code",
   "execution_count": 108,
   "metadata": {},
   "outputs": [
    {
     "name": "stdout",
     "output_type": "stream",
     "text": [
      "07/10/2014\n"
     ]
    }
   ],
   "source": [
    "for i in meta.getchildren():\n",
    "    if i.tag == \"fecha\":\n",
    "        print(i.text)"
   ]
  },
  {
   "cell_type": "code",
   "execution_count": 106,
   "metadata": {},
   "outputs": [],
   "source": []
  },
  {
   "cell_type": "code",
   "execution_count": 68,
   "metadata": {},
   "outputs": [
    {
     "name": "stdout",
     "output_type": "stream",
     "text": [
      "0 <Element sumario_nbo at 0x1201f6cc0> [<Element urlPdf at 0x1201f5900>]\n",
      "1 <Element seccion at 0x1201f6a80> [<Element departamento at 0x1201f5800>, <Element departamento at 0x1201f57c0>]\n",
      "2 <Element seccion at 0x1201f6f40> [<Element departamento at 0x1201fae40>, <Element departamento at 0x1201fa640>, <Element departamento at 0x1201facc0>, <Element departamento at 0x1201faa80>, <Element departamento at 0x1201fa540>, <Element departamento at 0x1201fa9c0>, <Element departamento at 0x1201fa180>, <Element departamento at 0x1201fa7c0>]\n",
      "3 <Element seccion at 0x1201f6240> [<Element departamento at 0x1201fae40>, <Element departamento at 0x1201fa500>, <Element departamento at 0x1201fa640>, <Element departamento at 0x1201fa300>, <Element departamento at 0x1201facc0>, <Element departamento at 0x1201faa80>, <Element departamento at 0x1201fa740>, <Element departamento at 0x1201fa540>]\n",
      "4 <Element seccion at 0x1201f6c80> [<Element departamento at 0x1201fae40>, <Element departamento at 0x1201fa9c0>]\n",
      "5 <Element seccion at 0x1201f6c00> [<Element departamento at 0x1201fa640>, <Element departamento at 0x1201fa9c0>, <Element departamento at 0x1201fa600>, <Element departamento at 0x1201faf40>, <Element departamento at 0x1201fa180>, <Element departamento at 0x1201fa3c0>, <Element departamento at 0x1201facc0>, <Element departamento at 0x1201fa7c0>, <Element departamento at 0x1201faa80>, <Element departamento at 0x1201fa300>, <Element departamento at 0x1201fa840>, <Element departamento at 0x1201fa740>, <Element departamento at 0x1201fa580>, <Element departamento at 0x1201fa540>, <Element departamento at 0x1201fae00>, <Element departamento at 0x1201fa440>, <Element departamento at 0x1201fa200>, <Element departamento at 0x1201fa2c0>]\n",
      "6 <Element seccion at 0x1201f6c40> [<Element departamento at 0x1201fae80>, <Element departamento at 0x1201fa9c0>, <Element departamento at 0x1201fa280>, <Element departamento at 0x1201fa600>, <Element departamento at 0x1201fa080>, <Element departamento at 0x1201fa140>, <Element departamento at 0x1201fa180>]\n",
      "7 <Element seccion at 0x1201e6f00> [<Element departamento at 0x1201fae80>]\n"
     ]
    }
   ],
   "source": [
    "\n",
    "for j,i in enumerate(diario.getchildren()):\n",
    "    print (j,i,i.getchildren())\n",
    "    #if i.tag == \"fecha\":\n",
    "     #   print(i.text)"
   ]
  },
  {
   "cell_type": "code",
   "execution_count": 105,
   "metadata": {},
   "outputs": [
    {
     "data": {
      "text/plain": [
       "'/boe/dias/2014/10/07/pdfs/BOE-S-2014-243.pdf'"
      ]
     },
     "execution_count": 105,
     "metadata": {},
     "output_type": "execute_result"
    }
   ],
   "source": []
  },
  {
   "cell_type": "code",
   "execution_count": 99,
   "metadata": {},
   "outputs": [
    {
     "data": {
      "text/plain": [
       "'/boe/dias/2014/10/07/pdfs/BOE-S-2014-243.pdf'"
      ]
     },
     "execution_count": 99,
     "metadata": {},
     "output_type": "execute_result"
    }
   ],
   "source": [
    "pdf_url = diario.getchildren()[0]\n",
    "pdf_url = pdf_url.find(\"urlPdf\").text\n",
    "pdf_url"
   ]
  },
  {
   "cell_type": "code",
   "execution_count": 80,
   "metadata": {},
   "outputs": [
    {
     "data": {
      "text/plain": [
       "[<Element urlPdf at 0x1201f5900>]"
      ]
     },
     "execution_count": 80,
     "metadata": {},
     "output_type": "execute_result"
    }
   ],
   "source": [
    "diario.getchildren()[0].getchildren()"
   ]
  },
  {
   "cell_type": "code",
   "execution_count": 10,
   "metadata": {},
   "outputs": [
    {
     "name": "stdout",
     "output_type": "stream",
     "text": [
      "<Element 'sumario' at 0x107e0b180>\n"
     ]
    }
   ],
   "source": [
    "import requests\n",
    "import xml.etree.ElementTree as ET\n",
    "\n",
    "r = requests.get('https://boe.es/diario_boe/xml.php?id=BOE-S-20141007')\n",
    "\n",
    "if r.status_code == 200:\n",
    "    start = r.text.find('<?xml')\n",
    "    end = r.text.find('</textarea>')\n",
    "    root = ET.fromstring(r.text[start:end])\n",
    "    print(root)\n"
   ]
  },
  {
   "cell_type": "code",
   "execution_count": 706,
   "metadata": {},
   "outputs": [
    {
     "data": {
      "text/html": [
       "<div>\n",
       "<style scoped>\n",
       "    .dataframe tbody tr th:only-of-type {\n",
       "        vertical-align: middle;\n",
       "    }\n",
       "\n",
       "    .dataframe tbody tr th {\n",
       "        vertical-align: top;\n",
       "    }\n",
       "\n",
       "    .dataframe thead th {\n",
       "        text-align: right;\n",
       "    }\n",
       "</style>\n",
       "<table border=\"1\" class=\"dataframe\">\n",
       "  <thead>\n",
       "    <tr style=\"text-align: right;\">\n",
       "      <th></th>\n",
       "      <th>Presidente</th>\n",
       "      <th>Ratio</th>\n",
       "      <th>cor</th>\n",
       "    </tr>\n",
       "  </thead>\n",
       "  <tbody>\n",
       "    <tr>\n",
       "      <th>0</th>\n",
       "      <td>Felipe</td>\n",
       "      <td>81.855948</td>\n",
       "      <td>izquierda</td>\n",
       "    </tr>\n",
       "    <tr>\n",
       "      <th>1</th>\n",
       "      <td>Aznar</td>\n",
       "      <td>21.633483</td>\n",
       "      <td>derecha</td>\n",
       "    </tr>\n",
       "    <tr>\n",
       "      <th>2</th>\n",
       "      <td>Zapatero</td>\n",
       "      <td>53.880602</td>\n",
       "      <td>izquierda</td>\n",
       "    </tr>\n",
       "    <tr>\n",
       "      <th>3</th>\n",
       "      <td>Rajoy</td>\n",
       "      <td>40.043331</td>\n",
       "      <td>derecha</td>\n",
       "    </tr>\n",
       "    <tr>\n",
       "      <th>4</th>\n",
       "      <td>Sanchez</td>\n",
       "      <td>53.224409</td>\n",
       "      <td>izquierda</td>\n",
       "    </tr>\n",
       "  </tbody>\n",
       "</table>\n",
       "</div>"
      ],
      "text/plain": [
       "  Presidente      Ratio        cor\n",
       "0     Felipe  81.855948  izquierda\n",
       "1      Aznar  21.633483    derecha\n",
       "2   Zapatero  53.880602  izquierda\n",
       "3      Rajoy  40.043331    derecha\n",
       "4    Sanchez  53.224409  izquierda"
      ]
     },
     "execution_count": 706,
     "metadata": {},
     "output_type": "execute_result"
    }
   ],
   "source": [
    "prop_df"
   ]
  },
  {
   "cell_type": "code",
   "execution_count": 21,
   "metadata": {},
   "outputs": [
    {
     "data": {
      "text/plain": [
       "70"
      ]
     },
     "execution_count": 21,
     "metadata": {},
     "output_type": "execute_result"
    }
   ],
   "source": [
    "end"
   ]
  },
  {
   "cell_type": "code",
   "execution_count": 702,
   "metadata": {},
   "outputs": [],
   "source": [
    "from sklearn.feature_selection import chi2\n",
    "from sklearn.feature_selection import SelectKBest"
   ]
  },
  {
   "cell_type": "code",
   "execution_count": null,
   "metadata": {},
   "outputs": [],
   "source": [
    "test = SelectKBest(score_func=chi2, k=4)\n",
    "fit = test.fit(, y)\n",
    "fit.scores_"
   ]
  }
 ],
 "metadata": {
  "kernelspec": {
   "display_name": "Python 3.9.2 64-bit ('3.9.2')",
   "language": "python",
   "name": "python3"
  },
  "language_info": {
   "codemirror_mode": {
    "name": "ipython",
    "version": 3
   },
   "file_extension": ".py",
   "mimetype": "text/x-python",
   "name": "python",
   "nbconvert_exporter": "python",
   "pygments_lexer": "ipython3",
   "version": "3.9.2"
  },
  "orig_nbformat": 4,
  "vscode": {
   "interpreter": {
    "hash": "b811b904950257589ce388ea217a45fff2eefef8ea78197a3b985aa3892aed00"
   }
  }
 },
 "nbformat": 4,
 "nbformat_minor": 2
}
