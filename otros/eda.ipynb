{
 "cells": [
  {
   "cell_type": "code",
   "execution_count": 31,
   "metadata": {},
   "outputs": [],
   "source": [
    "import pandas as pd\n",
    "import requests\n",
    "from bs4 import BeautifulSoup\n",
    "from tqdm import tqdm\n"
   ]
  },
  {
   "cell_type": "markdown",
   "metadata": {},
   "source": [
    "### RAW"
   ]
  },
  {
   "cell_type": "code",
   "execution_count": 7,
   "metadata": {},
   "outputs": [],
   "source": [
    "speechs = pd.read_csv(\"intervenciones.csv\", sep=\";\")\n"
   ]
  },
  {
   "cell_type": "markdown",
   "metadata": {},
   "source": [
    "### CLEAN UP"
   ]
  },
  {
   "cell_type": "code",
   "execution_count": 33,
   "metadata": {},
   "outputs": [
    {
     "data": {
      "text/plain": [
       "64903"
      ]
     },
     "execution_count": 33,
     "metadata": {},
     "output_type": "execute_result"
    }
   ],
   "source": [
    "speech_list = []\n",
    "\n",
    "for i in speechs[\"ENLACETEXTOINTEGRO\"]:\n",
    "    x = i.split(sep=\"#(\")\n",
    "    speech_list.append(x[0])\n",
    "\n",
    "l = len(speech_list)\n",
    "l"
   ]
  },
  {
   "cell_type": "code",
   "execution_count": 34,
   "metadata": {},
   "outputs": [
    {
     "data": {
      "text/plain": [
       "1058"
      ]
     },
     "execution_count": 34,
     "metadata": {},
     "output_type": "execute_result"
    }
   ],
   "source": [
    "speech_set = set(speech_list)\n",
    "s = len(speech_set)\n",
    "s\n"
   ]
  },
  {
   "cell_type": "code",
   "execution_count": 38,
   "metadata": {},
   "outputs": [
    {
     "name": "stdout",
     "output_type": "stream",
     "text": [
      "Unas... 61.34 interventicones por sessión.\n"
     ]
    }
   ],
   "source": [
    "print(\"Unas...\",round(l/s, 2),\"interventicones por sessión.\")"
   ]
  },
  {
   "cell_type": "markdown",
   "metadata": {},
   "source": [
    "### PARSING"
   ]
  },
  {
   "cell_type": "code",
   "execution_count": 39,
   "metadata": {},
   "outputs": [
    {
     "name": "stderr",
     "output_type": "stream",
     "text": [
      "100%|██████████| 1058/1058 [14:08<00:00,  1.25it/s]\n"
     ]
    }
   ],
   "source": [
    "lista = []\n",
    "dictionario = {}\n",
    "\n",
    "for link in tqdm(speech_set):\n",
    "    # page = requests.get(multi[\"ENLACETEXTOINTEGRO\"][i])\n",
    "    page = requests.get(link)\n",
    "    soup = BeautifulSoup(page.content, 'html.parser')\n",
    "    x = soup.find_all(class_=\"textoIntegro\")\n",
    "    for p in x:\n",
    "        y = p.get_text\n",
    "        lista.append(y)"
   ]
  },
  {
   "cell_type": "code",
   "execution_count": 91,
   "metadata": {},
   "outputs": [
    {
     "name": "stderr",
     "output_type": "stream",
     "text": [
      " 18%|█▊        | 192/1058 [02:04<07:29,  1.93it/s] "
     ]
    }
   ],
   "source": [
    "x = [\"link\", \"text\", \"date\"]\n",
    "congreso_df = pd.DataFrame(columns=x)\n",
    "\n",
    "columns = list(congreso_df)\n",
    "\n",
    "data = []\n",
    "\n",
    "for link in tqdm(speech_set):\n",
    "    lista = []\n",
    "    lista.append(link)\n",
    "\n",
    "    # page = requests.get(multi[\"ENLACETEXTOINTEGRO\"][i])\n",
    "    page = requests.get(link)\n",
    "    soup = BeautifulSoup(page.content, 'html.parser')\n",
    "\n",
    "    _ = soup.find_all(class_=\"textoIntegro\")\n",
    "    __ = soup.find_all(class_=\"cabecera2\")[0]\n",
    "\n",
    "    # text\n",
    "    for p in _:\n",
    "        y = p.get_text()\n",
    "        lista.append(y)\n",
    "\n",
    "    # date\n",
    "    for num, i in enumerate(__):\n",
    "        if num == (len(__) - 1):\n",
    "            lista.append(i)\n",
    "\n",
    "    zipped = zip(columns, lista)\n",
    "    dicti = dict(zipped)\n",
    "    data.append(dicti)\n",
    "\n",
    "congreso_df = congreso_df.append(dict, ignore_index=True)"
   ]
  },
  {
   "cell_type": "code",
   "execution_count": 90,
   "metadata": {},
   "outputs": [
    {
     "data": {
      "text/html": [
       "<div>\n",
       "<style scoped>\n",
       "    .dataframe tbody tr th:only-of-type {\n",
       "        vertical-align: middle;\n",
       "    }\n",
       "\n",
       "    .dataframe tbody tr th {\n",
       "        vertical-align: top;\n",
       "    }\n",
       "\n",
       "    .dataframe thead th {\n",
       "        text-align: right;\n",
       "    }\n",
       "</style>\n",
       "<table border=\"1\" class=\"dataframe\">\n",
       "  <thead>\n",
       "    <tr style=\"text-align: right;\">\n",
       "      <th></th>\n",
       "      <th>link</th>\n",
       "      <th>text</th>\n",
       "      <th>date</th>\n",
       "    </tr>\n",
       "  </thead>\n",
       "  <tbody>\n",
       "  </tbody>\n",
       "</table>\n",
       "</div>"
      ],
      "text/plain": [
       "Empty DataFrame\n",
       "Columns: [link, text, date]\n",
       "Index: []"
      ]
     },
     "execution_count": 90,
     "metadata": {},
     "output_type": "execute_result"
    }
   ],
   "source": [
    "congreso_df"
   ]
  },
  {
   "cell_type": "code",
   "execution_count": null,
   "metadata": {},
   "outputs": [],
   "source": [
    "for p in x:\n",
    "    p.get_text\n"
   ]
  },
  {
   "cell_type": "code",
   "execution_count": 44,
   "metadata": {},
   "outputs": [
    {
     "data": {
      "text/plain": [
       "<Response [200]>"
      ]
     },
     "execution_count": 44,
     "metadata": {},
     "output_type": "execute_result"
    }
   ],
   "source": [
    "page = requests.get(multi[\"ENLACETEXTOINTEGRO\"][0])\n",
    "page"
   ]
  },
  {
   "cell_type": "code",
   "execution_count": 45,
   "metadata": {},
   "outputs": [
    {
     "data": {
      "text/plain": [
       "'https://www.congreso.es/web/guest/busqueda-de-intervenciones?p_p_id=intervenciones&p_p_lifecycle=0&p_p_state=normal&p_p_mode=view&_intervenciones_mode=mostrarTextoIntegro&_intervenciones_legislatura=XIV&_intervenciones_id_texto=(DSCD-14-PL-1-C1.CODI.)#(P%C3%A1gina15)'"
      ]
     },
     "execution_count": 45,
     "metadata": {},
     "output_type": "execute_result"
    }
   ],
   "source": [
    "multi[\"ENLACETEXTOINTEGRO\"][0]"
   ]
  },
  {
   "cell_type": "code",
   "execution_count": null,
   "metadata": {},
   "outputs": [],
   "source": []
  }
 ],
 "metadata": {
  "kernelspec": {
   "display_name": "Python 3.9.2 64-bit ('3.9.2')",
   "language": "python",
   "name": "python3"
  },
  "language_info": {
   "codemirror_mode": {
    "name": "ipython",
    "version": 3
   },
   "file_extension": ".py",
   "mimetype": "text/x-python",
   "name": "python",
   "nbconvert_exporter": "python",
   "pygments_lexer": "ipython3",
   "version": "3.9.2"
  },
  "orig_nbformat": 4,
  "vscode": {
   "interpreter": {
    "hash": "b811b904950257589ce388ea217a45fff2eefef8ea78197a3b985aa3892aed00"
   }
  }
 },
 "nbformat": 4,
 "nbformat_minor": 2
}
