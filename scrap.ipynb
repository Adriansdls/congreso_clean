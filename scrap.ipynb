{
 "cells": [
  {
   "cell_type": "code",
   "execution_count": 1,
   "metadata": {},
   "outputs": [],
   "source": [
    "import pandas as pd\n",
    "import datetime\n",
    "import requests\n",
    "from bs4 import BeautifulSoup\n",
    "from tqdm import tqdm\n",
    "import re\n",
    "import uuid"
   ]
  },
  {
   "cell_type": "code",
   "execution_count": null,
   "metadata": {},
   "outputs": [],
   "source": [
    "\n",
    "url = \"https://www.congreso.es/busqueda-de-publicaciones?p_p_id=publicaciones&p_p_lifecycle=0&p_p_state=normal&p_p_mode=view&_publicaciones_mode=mostrarTextoIntegro&_publicaciones_legislatura=XIV&_publicaciones_id_texto=(DSCD-14-CO-735.CODI.)\"\n",
    "\n",
    "page = requests.get(url)\n",
    "soup = BeautifulSoup(page.content, 'html.parser')\n",
    "\n",
    "x = soup.find(class_=\"textoIntegro\")\n",
    "x.get_text(separator=\" \")"
   ]
  },
  {
   "cell_type": "code",
   "execution_count": 87,
   "metadata": {},
   "outputs": [],
   "source": [
    "# BUENA LISTA DE URLS LEGISLATURA 14\n",
    "full_url = []\n",
    "n = 1\n",
    "\n",
    "# AQUI añadir hoy - fecha de inicio legislatura en lugar de 800\n",
    "\n",
    "for i in range(800):\n",
    "\n",
    "    url = \"https://www.congreso.es/busqueda-de-publicaciones?p_p_id=publicaciones&p_p_lifecycle=0&p_p_state=normal&p_p_mode=view&_publicaciones_mode=mostrarTextoIntegro&_publicaciones_legislatura=XIV&_publicaciones_id_texto=(DSCD-14-CO-{0}.CODI.)\".format(n)\n",
    "    full_url.append(url)\n",
    "    n += 1"
   ]
  },
  {
   "cell_type": "code",
   "execution_count": null,
   "metadata": {},
   "outputs": [],
   "source": [
    "\n",
    "url = \"https://www.congreso.es/busqueda-de-publicaciones?p_p_id=publicaciones&p_p_lifecycle=0&p_p_state=normal&p_p_mode=view&_publicaciones_mode=mostrarTextoIntegro&_publicaciones_legislatura=XIV&_publicaciones_id_texto=(DSCD-14-CO-736.CODI.)\"\n",
    "page = requests.get(url)\n",
    "soup = BeautifulSoup(page.content, 'lxml')\n",
    "\n",
    "x = soup.find(\"div\", attrs={\"class\":\"textoIntegro publicaciones\"})\n",
    "\n",
    "li = []\n",
    "for i in x:\n",
    "    if i.string != None:\n",
    "        li.append(i.string)\n",
    "\n",
    "textitos = \" \".join(li)\n",
    "textitos"
   ]
  },
  {
   "cell_type": "code",
   "execution_count": null,
   "metadata": {},
   "outputs": [],
   "source": [
    "df = pd.DataFrame(columns=[\"date\",\"text\", \"type\", \"num\", \"url\"])\n",
    "\n",
    "for url in tqdm(full_url):\n",
    "    page = requests.get(url)\n",
    "    soup = BeautifulSoup(page.content, 'lxml')\n",
    "\n",
    "    x = soup.find(\"div\", attrs={\"class\":\"textoIntegro publicaciones\"})\n",
    "    li = []\n",
    "\n",
    "    for i in x:\n",
    "        if i.string != None:\n",
    "            li.append(i.string)\n",
    "\n",
    "    texto_integro = \" \".join(li)\n",
    "\n",
    "    # TEXTO\n",
    "    texto_integro = re.sub(r\"Página\\s\\d*\", \" \",texto_integro)\n",
    "    texto_integro = re.sub(r\"(\\,(?=\\S))\", \", \", texto_integro)\n",
    "    texto_integro = re.sub(r\"(\\.(?=\\S))\", \". \", texto_integro)\n",
    "    texto_integro = re.sub(r\"(\\)(?=\\S))\", \") \", texto_integro)\n",
    "    texto_integro = re.sub(r\"(\\:(?=\\S))\", \": \", texto_integro)\n",
    "    texto_integro = texto_integro.replace(\"\\r\", \" \")\n",
    "    texto_integro = texto_integro.replace(\"\\n\", \" \")\n",
    "    texto_integro = texto_integro.replace(\"\\t\", \" \")\n",
    "    texto_integro = re.sub(' +', ' ',texto_integro)\n",
    "\n",
    "    meta = soup.find(class_=\"datos1\").getText()\n",
    "    date = meta[-10:]\n",
    "\n",
    "    try:\n",
    "        tipo = meta.split(\",\")[1].replace(\" \",\"\")\n",
    "    except IndexError:\n",
    "        break\n",
    "    \n",
    "    num = meta.split(\",\")[2].split(\".\")[1].replace(\" \",\"\")\n",
    "\n",
    "    intervencion = []\n",
    "    intervencion.append([date, texto_integro, tipo, num, url])\n",
    "\n",
    "    df_ = pd.DataFrame(intervencion, columns=[\"date\",\"text\", \"type\", \"num\", \"url\"])\n",
    "    df = pd.concat([df,df_], axis=0)\n",
    "\n",
    "df['uuid'] = [uuid.uuid4() for x in range(df.shape[0])]\n",
    "df.date = pd.to_datetime(df.date, format=\"%d/%m/%Y\")\n",
    "df[\"legislatura\"] = 14\n",
    "df.set_index(\"uuid\", inplace=True)\n",
    "df.to_csv(\"intervenciones_14_.csv\")"
   ]
  },
  {
   "cell_type": "code",
   "execution_count": null,
   "metadata": {},
   "outputs": [],
   "source": [
    "intervenciones_14 = df.copy()\n",
    "intervenciones_14"
   ]
  },
  {
   "cell_type": "code",
   "execution_count": null,
   "metadata": {},
   "outputs": [],
   "source": [
    "intervenciones_14_short = intervenciones_14[-1:]\n",
    "intervenciones_14_short"
   ]
  },
  {
   "cell_type": "code",
   "execution_count": 335,
   "metadata": {},
   "outputs": [],
   "source": [
    "full_df = pd.DataFrame(columns=[\"speaker\", \"discurso\", \"nºintervención\",\"fecha\", \"num\", \"legislatura\", \"uuid\", \"url\"])\n",
    "\n",
    "for index,i in intervenciones_14.iterrows():\n",
    "    l = []\n",
    "    s = re.split(r\"El señor\\s(?=[A-ZÀ-Ÿ][A-ZÀ-ß])|La señora\\s(?=[A-ZÀ-Ÿ][A-ZÀ-ß])\", i[\"text\"])\n",
    "    \n",
    "    for z,j in enumerate(s):\n",
    "        x = j.split(sep=\":\", maxsplit=1)\n",
    "        try:\n",
    "            l.append([x[0],x[1],z,i.date,i.num,i.legislatura,index,i.url])\n",
    "        except IndexError:\n",
    "            l.append([\"No Discurso\",x,z,i.date,i.num,i.legislatura,index,i.url]) # BORRAR EN VERSION FINAL\n",
    "            \n",
    "\n",
    "    df_ = pd.DataFrame(l, columns=[\"speaker\", \"discurso\", \"nºintervención\",\"fecha\", \"num\", \"legislatura\", \"uuid\", \"url\"])\n",
    "    full_df = pd.concat([full_df,df_], axis=0)\n",
    "    \n",
    "full_df.set_index(\"uuid\", inplace=True)\n",
    "full_df = full_df[full_df[\"nºintervención\"] != 0]\n"
   ]
  },
  {
   "cell_type": "code",
   "execution_count": null,
   "metadata": {},
   "outputs": [],
   "source": [
    "full_df"
   ]
  }
 ],
 "metadata": {
  "kernelspec": {
   "display_name": "Python 3.9.2 64-bit ('3.9.2')",
   "language": "python",
   "name": "python3"
  },
  "language_info": {
   "codemirror_mode": {
    "name": "ipython",
    "version": 3
   },
   "file_extension": ".py",
   "mimetype": "text/x-python",
   "name": "python",
   "nbconvert_exporter": "python",
   "pygments_lexer": "ipython3",
   "version": "3.9.2"
  },
  "orig_nbformat": 4,
  "vscode": {
   "interpreter": {
    "hash": "b811b904950257589ce388ea217a45fff2eefef8ea78197a3b985aa3892aed00"
   }
  }
 },
 "nbformat": 4,
 "nbformat_minor": 2
}
