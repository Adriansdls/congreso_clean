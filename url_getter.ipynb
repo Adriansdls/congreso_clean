{
 "cells": [
  {
   "cell_type": "code",
   "execution_count": 18,
   "metadata": {},
   "outputs": [],
   "source": [
    "import requests\n",
    "from bs4 import BeautifulSoup\n",
    "from selenium import webdriver\n",
    "import time\n",
    "import pandas as pd\n",
    "from math import ceil\n",
    "\n"
   ]
  },
  {
   "cell_type": "code",
   "execution_count": 3,
   "metadata": {},
   "outputs": [],
   "source": [
    "url = \"https://www.congreso.es/publicaciones-organo?p_p_id=publicaciones&p_p_lifecycle=0&p_p_state=normal&p_p_mode=view&_publicaciones_descOrg=Pleno-y-Diputacion-Permanente&_publicaciones_legislatura=XIV&_publicaciones_seccion=Congreso&_publicaciones_publicacion=D\"\n",
    "driver = webdriver.Chrome()\n",
    "driver.get(url)\n",
    "all_urls = []\n",
    "\n",
    "soup = BeautifulSoup(driver.page_source, 'html.parser')\n",
    "\n",
    "pages = soup.select('div.col-sm-5.col-12.pt-2.text-right')\n",
    "num_pages = ceil(int(pages[0].getText()[-4:].strip(\" \")) / 20)\n",
    "\n",
    "tables = soup.select('div.cuerpo-diputados-list.table-responsive')\n",
    "\n",
    "for i in range(num_pages + 1):\n",
    "    table1 = []\n",
    "    for td in tables[1].find_all('tr'):\n",
    "        for i in td.find_all('a'):\n",
    "            if i.get(\"href\")[-1] != \"F\":\n",
    "                table1.append(i.get(\"href\"))\n",
    "    \n",
    "\n"
   ]
  },
  {
   "cell_type": "code",
   "execution_count": 25,
   "metadata": {},
   "outputs": [
    {
     "ename": "InvalidArgumentException",
     "evalue": "Message: invalid argument: invalid locator\n  (Session info: chrome=105.0.5195.102)\nStacktrace:\n0   chromedriver                        0x0000000104d0aae0 chromedriver + 3828448\n1   chromedriver                        0x0000000104c9ff1c chromedriver + 3391260\n2   chromedriver                        0x0000000104998fcc chromedriver + 217036\n3   chromedriver                        0x00000001049c8668 chromedriver + 411240\n4   chromedriver                        0x00000001049f1b2c chromedriver + 580396\n5   chromedriver                        0x00000001049be010 chromedriver + 368656\n6   chromedriver                        0x0000000104ce039c chromedriver + 3654556\n7   chromedriver                        0x0000000104ce3c4c chromedriver + 3669068\n8   chromedriver                        0x0000000104ce814c chromedriver + 3686732\n9   chromedriver                        0x0000000104ce4654 chromedriver + 3671636\n10  chromedriver                        0x0000000104cc2b40 chromedriver + 3533632\n11  chromedriver                        0x0000000104cfc414 chromedriver + 3769364\n12  chromedriver                        0x0000000104cfc578 chromedriver + 3769720\n13  chromedriver                        0x0000000104d110f0 chromedriver + 3854576\n14  libsystem_pthread.dylib             0x00000001bb925240 _pthread_start + 148\n15  libsystem_pthread.dylib             0x00000001bb920024 thread_start + 8\n",
     "output_type": "error",
     "traceback": [
      "\u001b[0;31m---------------------------------------------------------------------------\u001b[0m",
      "\u001b[0;31mInvalidArgumentException\u001b[0m                  Traceback (most recent call last)",
      "\u001b[1;32m/Users/adriansanchezdelasierra/projects/drafts/url_getter.ipynb Cell 3\u001b[0m in \u001b[0;36m<cell line: 1>\u001b[0;34m()\u001b[0m\n\u001b[0;32m----> <a href='vscode-notebook-cell:/Users/adriansanchezdelasierra/projects/drafts/url_getter.ipynb#W2sZmlsZQ%3D%3D?line=0'>1</a>\u001b[0m driver\u001b[39m.\u001b[39;49mfind_element(\u001b[39m\"\u001b[39;49m\u001b[39mclass\u001b[39;49m\u001b[39m\"\u001b[39;49m,\u001b[39m\"\u001b[39;49m\u001b[39mpage-link.btn_pag\u001b[39;49m\u001b[39m\"\u001b[39;49m)\n",
      "File \u001b[0;32m~/.pyenv/versions/3.9.2/lib/python3.9/site-packages/selenium/webdriver/remote/webdriver.py:857\u001b[0m, in \u001b[0;36mWebDriver.find_element\u001b[0;34m(self, by, value)\u001b[0m\n\u001b[1;32m    854\u001b[0m     by \u001b[39m=\u001b[39m By\u001b[39m.\u001b[39mCSS_SELECTOR\n\u001b[1;32m    855\u001b[0m     value \u001b[39m=\u001b[39m \u001b[39m'\u001b[39m\u001b[39m[name=\u001b[39m\u001b[39m\"\u001b[39m\u001b[39m%s\u001b[39;00m\u001b[39m\"\u001b[39m\u001b[39m]\u001b[39m\u001b[39m'\u001b[39m \u001b[39m%\u001b[39m value\n\u001b[0;32m--> 857\u001b[0m \u001b[39mreturn\u001b[39;00m \u001b[39mself\u001b[39;49m\u001b[39m.\u001b[39;49mexecute(Command\u001b[39m.\u001b[39;49mFIND_ELEMENT, {\n\u001b[1;32m    858\u001b[0m     \u001b[39m'\u001b[39;49m\u001b[39musing\u001b[39;49m\u001b[39m'\u001b[39;49m: by,\n\u001b[1;32m    859\u001b[0m     \u001b[39m'\u001b[39;49m\u001b[39mvalue\u001b[39;49m\u001b[39m'\u001b[39;49m: value})[\u001b[39m'\u001b[39m\u001b[39mvalue\u001b[39m\u001b[39m'\u001b[39m]\n",
      "File \u001b[0;32m~/.pyenv/versions/3.9.2/lib/python3.9/site-packages/selenium/webdriver/remote/webdriver.py:435\u001b[0m, in \u001b[0;36mWebDriver.execute\u001b[0;34m(self, driver_command, params)\u001b[0m\n\u001b[1;32m    433\u001b[0m response \u001b[39m=\u001b[39m \u001b[39mself\u001b[39m\u001b[39m.\u001b[39mcommand_executor\u001b[39m.\u001b[39mexecute(driver_command, params)\n\u001b[1;32m    434\u001b[0m \u001b[39mif\u001b[39;00m response:\n\u001b[0;32m--> 435\u001b[0m     \u001b[39mself\u001b[39;49m\u001b[39m.\u001b[39;49merror_handler\u001b[39m.\u001b[39;49mcheck_response(response)\n\u001b[1;32m    436\u001b[0m     response[\u001b[39m'\u001b[39m\u001b[39mvalue\u001b[39m\u001b[39m'\u001b[39m] \u001b[39m=\u001b[39m \u001b[39mself\u001b[39m\u001b[39m.\u001b[39m_unwrap_value(\n\u001b[1;32m    437\u001b[0m         response\u001b[39m.\u001b[39mget(\u001b[39m'\u001b[39m\u001b[39mvalue\u001b[39m\u001b[39m'\u001b[39m, \u001b[39mNone\u001b[39;00m))\n\u001b[1;32m    438\u001b[0m     \u001b[39mreturn\u001b[39;00m response\n",
      "File \u001b[0;32m~/.pyenv/versions/3.9.2/lib/python3.9/site-packages/selenium/webdriver/remote/errorhandler.py:247\u001b[0m, in \u001b[0;36mErrorHandler.check_response\u001b[0;34m(self, response)\u001b[0m\n\u001b[1;32m    245\u001b[0m         alert_text \u001b[39m=\u001b[39m value[\u001b[39m'\u001b[39m\u001b[39malert\u001b[39m\u001b[39m'\u001b[39m]\u001b[39m.\u001b[39mget(\u001b[39m'\u001b[39m\u001b[39mtext\u001b[39m\u001b[39m'\u001b[39m)\n\u001b[1;32m    246\u001b[0m     \u001b[39mraise\u001b[39;00m exception_class(message, screen, stacktrace, alert_text)  \u001b[39m# type: ignore[call-arg]  # mypy is not smart enough here\u001b[39;00m\n\u001b[0;32m--> 247\u001b[0m \u001b[39mraise\u001b[39;00m exception_class(message, screen, stacktrace)\n",
      "\u001b[0;31mInvalidArgumentException\u001b[0m: Message: invalid argument: invalid locator\n  (Session info: chrome=105.0.5195.102)\nStacktrace:\n0   chromedriver                        0x0000000104d0aae0 chromedriver + 3828448\n1   chromedriver                        0x0000000104c9ff1c chromedriver + 3391260\n2   chromedriver                        0x0000000104998fcc chromedriver + 217036\n3   chromedriver                        0x00000001049c8668 chromedriver + 411240\n4   chromedriver                        0x00000001049f1b2c chromedriver + 580396\n5   chromedriver                        0x00000001049be010 chromedriver + 368656\n6   chromedriver                        0x0000000104ce039c chromedriver + 3654556\n7   chromedriver                        0x0000000104ce3c4c chromedriver + 3669068\n8   chromedriver                        0x0000000104ce814c chromedriver + 3686732\n9   chromedriver                        0x0000000104ce4654 chromedriver + 3671636\n10  chromedriver                        0x0000000104cc2b40 chromedriver + 3533632\n11  chromedriver                        0x0000000104cfc414 chromedriver + 3769364\n12  chromedriver                        0x0000000104cfc578 chromedriver + 3769720\n13  chromedriver                        0x0000000104d110f0 chromedriver + 3854576\n14  libsystem_pthread.dylib             0x00000001bb925240 _pthread_start + 148\n15  libsystem_pthread.dylib             0x00000001bb920024 thread_start + 8\n"
     ]
    }
   ],
   "source": [
    "driver.find_element(\"class\",\"page-link.btn_pag\")"
   ]
  },
  {
   "cell_type": "code",
   "execution_count": null,
   "metadata": {},
   "outputs": [],
   "source": []
  }
 ],
 "metadata": {
  "kernelspec": {
   "display_name": "Python 3.9.2 64-bit ('3.9.2')",
   "language": "python",
   "name": "python3"
  },
  "language_info": {
   "codemirror_mode": {
    "name": "ipython",
    "version": 3
   },
   "file_extension": ".py",
   "mimetype": "text/x-python",
   "name": "python",
   "nbconvert_exporter": "python",
   "pygments_lexer": "ipython3",
   "version": "3.9.2"
  },
  "orig_nbformat": 4,
  "vscode": {
   "interpreter": {
    "hash": "b811b904950257589ce388ea217a45fff2eefef8ea78197a3b985aa3892aed00"
   }
  }
 },
 "nbformat": 4,
 "nbformat_minor": 2
}
